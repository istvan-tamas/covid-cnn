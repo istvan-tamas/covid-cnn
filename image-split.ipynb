{
 "cells": [
  {
   "cell_type": "code",
   "execution_count": 22,
   "id": "8322f1d0-3a4a-4758-97fb-2732038d13f2",
   "metadata": {},
   "outputs": [],
   "source": [
    "import pandas as pd\n",
    "import numpy as np\n",
    "from sklearn.model_selection import train_test_split"
   ]
  },
  {
   "cell_type": "code",
   "execution_count": 24,
   "id": "fdb4bda9-42dc-416f-a414-63e57f9cbb12",
   "metadata": {},
   "outputs": [],
   "source": [
    "import warnings\n",
    "warnings.filterwarnings('ignore')"
   ]
  },
  {
   "cell_type": "code",
   "execution_count": 26,
   "id": "4e1c180d-391c-42de-bbae-8a6ba476bb6e",
   "metadata": {},
   "outputs": [],
   "source": [
    "data_to_split = pd.read_csv('train_val_metadata.csv')"
   ]
  },
  {
   "cell_type": "code",
   "execution_count": 28,
   "id": "a3f31224-0d97-47e5-9886-a1f469faf5de",
   "metadata": {},
   "outputs": [],
   "source": [
    "number_of_folds = 5\n",
    "folds = []"
   ]
  },
  {
   "cell_type": "code",
   "execution_count": 30,
   "id": "eace8e94-c8b6-4cda-9a7d-667cac3e4ab9",
   "metadata": {},
   "outputs": [
    {
     "data": {
      "text/plain": [
       "5565"
      ]
     },
     "execution_count": 30,
     "metadata": {},
     "output_type": "execute_result"
    }
   ],
   "source": [
    "len(data_to_split)"
   ]
  },
  {
   "cell_type": "code",
   "execution_count": 32,
   "id": "74095554-ba10-4f4f-87ff-2bf74f1f00c5",
   "metadata": {},
   "outputs": [
    {
     "data": {
      "text/plain": [
       "['patient id',\n",
       " 'source',\n",
       " 'country',\n",
       " 'sex',\n",
       " 'age',\n",
       " 'finding',\n",
       " 'verified finding',\n",
       " 'slice selection',\n",
       " 'view',\n",
       " 'modality']"
      ]
     },
     "execution_count": 32,
     "metadata": {},
     "output_type": "execute_result"
    }
   ],
   "source": [
    "data_to_split.columns.values.tolist()"
   ]
  },
  {
   "cell_type": "code",
   "execution_count": 34,
   "id": "6d76e2b4-dadc-4d5f-9233-10240b102209",
   "metadata": {},
   "outputs": [],
   "source": [
    "already_sampled = pd.DataFrame(columns=data_to_split.columns.values.tolist())\n",
    "\n",
    "for i in range(0,number_of_folds):\n",
    "    \n",
    "    training_set = pd.DataFrame(columns=data_to_split.columns.values.tolist())\n",
    "    val_set = pd.DataFrame(columns=data_to_split.columns.values.tolist())\n",
    "\n",
    "    training_set = data_to_split\n",
    "\n",
    "    i = 0\n",
    "    \n",
    "    while(i < int(len(data_to_split)/number_of_folds)):\n",
    "        sample = training_set.sample(n=1)\n",
    "        if sample['patient id'].isin(already_sampled['patient id']).values[0]:\n",
    "            continue\n",
    "        else:\n",
    "            val_set = pd.concat([val_set,sample])\n",
    "            already_sampled = pd.concat([already_sampled,sample])\n",
    "            #cond = training_set['patient id'].isin(sample['patient id'])\n",
    "            #training_set.drop(training_set[cond].index, inplace = True)\n",
    "            training_set = training_set.drop(sample.index, inplace=False)\n",
    "            i = i + 1\n",
    "            \n",
    "    temp = []\n",
    "    temp.append(training_set)\n",
    "    temp.append(val_set)\n",
    "    folds.append(temp)"
   ]
  },
  {
   "cell_type": "code",
   "execution_count": 38,
   "id": "47bd43ed-e392-4212-bfcc-f75642f04007",
   "metadata": {},
   "outputs": [
    {
     "data": {
      "text/plain": [
       "5565"
      ]
     },
     "execution_count": 38,
     "metadata": {},
     "output_type": "execute_result"
    }
   ],
   "source": [
    "len(already_sampled)"
   ]
  },
  {
   "cell_type": "code",
   "execution_count": 84,
   "id": "c5c0f1f6-d620-4118-b34c-e59cb14b806b",
   "metadata": {},
   "outputs": [
    {
     "name": "stdout",
     "output_type": "stream",
     "text": [
      "Training set length: 4452\n",
      "Validation set length: 1113\n",
      "Total dataset length: 5565\n",
      "\n",
      "\n",
      "Training set length: 4452\n",
      "Validation set length: 1113\n",
      "Total dataset length: 5565\n",
      "\n",
      "\n",
      "Training set length: 4452\n",
      "Validation set length: 1113\n",
      "Total dataset length: 5565\n",
      "\n",
      "\n",
      "Training set length: 4452\n",
      "Validation set length: 1113\n",
      "Total dataset length: 5565\n",
      "\n",
      "\n",
      "Training set length: 4452\n",
      "Validation set length: 1113\n",
      "Total dataset length: 5565\n",
      "\n",
      "\n"
     ]
    }
   ],
   "source": [
    "for i in range(0, len(folds)):\n",
    "    print(\"Training set length: \" + str(len(folds[i][0])))\n",
    "    print(\"Validation set length: \" + str(len(folds[i][1])))\n",
    "    print(\"Total dataset length: \" + str(len(folds[i][0]) + len(folds[i][1])))\n",
    "    print(\"\\n\")"
   ]
  },
  {
   "cell_type": "code",
   "execution_count": 92,
   "id": "996c4e48-0faf-41b9-b07f-6d3ce1d6ef97",
   "metadata": {},
   "outputs": [
    {
     "name": "stdout",
     "output_type": "stream",
     "text": [
      "finding\n",
      "COVID-19     0.770889\n",
      "Pneumonia    0.141509\n",
      "Normal       0.087601\n",
      "Name: proportion, dtype: float64\n",
      "finding\n",
      "COVID-19     0.770440\n",
      "Pneumonia    0.142633\n",
      "Normal       0.086927\n",
      "Name: proportion, dtype: float64\n",
      "finding\n",
      "COVID-19     0.773136\n",
      "Pneumonia    0.140611\n",
      "Normal       0.086253\n",
      "Name: proportion, dtype: float64\n",
      "finding\n",
      "COVID-19     0.771563\n",
      "Pneumonia    0.139937\n",
      "Normal       0.088500\n",
      "Name: proportion, dtype: float64\n",
      "finding\n",
      "COVID-19     0.764825\n",
      "Pneumonia    0.148697\n",
      "Normal       0.086478\n",
      "Name: proportion, dtype: float64\n"
     ]
    }
   ],
   "source": [
    "# Distribution of class labels in training data\n",
    "for i in range(0, len(folds)):\n",
    "    print(folds[i][0]['finding'].value_counts(normalize=True))"
   ]
  },
  {
   "cell_type": "code",
   "execution_count": 94,
   "id": "295c59fb-a9a4-4737-b414-c82b6b8a8ca8",
   "metadata": {},
   "outputs": [
    {
     "name": "stdout",
     "output_type": "stream",
     "text": [
      "finding\n",
      "COVID-19     0.767296\n",
      "Pneumonia    0.147350\n",
      "Normal       0.085355\n",
      "Name: proportion, dtype: float64\n",
      "finding\n",
      "COVID-19     0.769093\n",
      "Pneumonia    0.142857\n",
      "Normal       0.088050\n",
      "Name: proportion, dtype: float64\n",
      "finding\n",
      "COVID-19     0.758311\n",
      "Pneumonia    0.150943\n",
      "Normal       0.090746\n",
      "Name: proportion, dtype: float64\n",
      "finding\n",
      "COVID-19     0.764600\n",
      "Pneumonia    0.153639\n",
      "Normal       0.081761\n",
      "Name: proportion, dtype: float64\n",
      "finding\n",
      "COVID-19     0.791554\n",
      "Pneumonia    0.118598\n",
      "Normal       0.089847\n",
      "Name: proportion, dtype: float64\n"
     ]
    }
   ],
   "source": [
    "# Distribution of class labels in validation data\n",
    "for i in range(0, len(folds)):\n",
    "    print(folds[i][1]['finding'].value_counts(normalize=True))"
   ]
  },
  {
   "cell_type": "code",
   "execution_count": null,
   "id": "4be52f7e-5aa2-4e58-8fb5-a556e8ba1a01",
   "metadata": {},
   "outputs": [],
   "source": [
    "    if sample['patient id'].isin(already_sampled[0]['patient id'])\n",
    "        continue\n",
    "    else:\n",
    "        val_set.append(sample)\n",
    "        already_sampled.append(sample)\n",
    "        cond = sample['patient id'].isin(already_sampled[0]['patient id'])\n",
    "        data_to_split.drop(data_to_split[cond].index, inplace = True)\n",
    "    \n",
    "    training_set.append(data_to_split2)\n",
    "    folds.append([training_set,val_set])"
   ]
  },
  {
   "cell_type": "code",
   "execution_count": 300,
   "id": "24efc227-7d80-4ab5-af2e-0609ff710c5f",
   "metadata": {},
   "outputs": [],
   "source": [
    "val_set = pd.DataFrame(columns=data_to_split.columns.values.tolist())"
   ]
  },
  {
   "cell_type": "code",
   "execution_count": 314,
   "id": "d9abe9b5-a66f-429d-84d4-4acf41b9083f",
   "metadata": {},
   "outputs": [
    {
     "data": {
      "text/html": [
       "<div>\n",
       "<style scoped>\n",
       "    .dataframe tbody tr th:only-of-type {\n",
       "        vertical-align: middle;\n",
       "    }\n",
       "\n",
       "    .dataframe tbody tr th {\n",
       "        vertical-align: top;\n",
       "    }\n",
       "\n",
       "    .dataframe thead th {\n",
       "        text-align: right;\n",
       "    }\n",
       "</style>\n",
       "<table border=\"1\" class=\"dataframe\">\n",
       "  <thead>\n",
       "    <tr style=\"text-align: right;\">\n",
       "      <th></th>\n",
       "      <th>patient id</th>\n",
       "      <th>source</th>\n",
       "      <th>country</th>\n",
       "      <th>sex</th>\n",
       "      <th>age</th>\n",
       "      <th>finding</th>\n",
       "      <th>verified finding</th>\n",
       "      <th>slice selection</th>\n",
       "      <th>view</th>\n",
       "      <th>modality</th>\n",
       "    </tr>\n",
       "  </thead>\n",
       "  <tbody>\n",
       "    <tr>\n",
       "      <th>4934</th>\n",
       "      <td>STOIC-7169</td>\n",
       "      <td>STOIC</td>\n",
       "      <td>France</td>\n",
       "      <td>F</td>\n",
       "      <td>45.0</td>\n",
       "      <td>COVID-19</td>\n",
       "      <td>Yes</td>\n",
       "      <td>Automatic</td>\n",
       "      <td>Axial</td>\n",
       "      <td>CT</td>\n",
       "    </tr>\n",
       "  </tbody>\n",
       "</table>\n",
       "</div>"
      ],
      "text/plain": [
       "      patient id source country sex   age   finding verified finding  \\\n",
       "4934  STOIC-7169  STOIC  France   F  45.0  COVID-19              Yes   \n",
       "\n",
       "     slice selection   view modality  \n",
       "4934       Automatic  Axial       CT  "
      ]
     },
     "execution_count": 314,
     "metadata": {},
     "output_type": "execute_result"
    }
   ],
   "source": [
    "sample = data_to_split.sample(n=1)\n",
    "sample.iloc[:]"
   ]
  },
  {
   "cell_type": "code",
   "execution_count": 322,
   "id": "0f318e8b-c14d-4d74-bf7f-219b6c8d82e3",
   "metadata": {},
   "outputs": [],
   "source": [
    "training_set = []\n",
    "val_set = pd.DataFrame(columns=data_to_split.columns.values.tolist())\n",
    "already_sampled = []\n",
    "\n",
    "for j in range(int(len(data_to_split)/number_of_folds)):\n",
    "    sample = data_to_split.sample(n=1)\n",
    "    val_set = pd.concat([val_set, sample[sample['patient id'] == 0]])\n",
    "#    if sample['patient id'].isin(already_sampled[0]['patient id'])\n",
    "#        continue\n",
    "#    else:\n",
    "#        val_set[1].append(sample)\n",
    "#        already_sampled.append(sample)\n",
    "#        cond = sample['patient id'].isin(already_sampled[0]['patient id'])\n",
    "#        data_to_split.drop(data_to_split[cond].index, inplace = True)"
   ]
  },
  {
   "cell_type": "code",
   "execution_count": 144,
   "id": "6cc6a066-77be-4366-a9d6-7817dfd730dd",
   "metadata": {},
   "outputs": [
    {
     "data": {
      "text/plain": [
       "0"
      ]
     },
     "execution_count": 144,
     "metadata": {},
     "output_type": "execute_result"
    }
   ],
   "source": [
    "data_to_split2['patient id'].isna().sum()"
   ]
  },
  {
   "cell_type": "code",
   "execution_count": null,
   "id": "d0e3744a-09cd-45df-8aca-698548e5b5a4",
   "metadata": {},
   "outputs": [],
   "source": []
  },
  {
   "cell_type": "code",
   "execution_count": 130,
   "id": "65e21b0d-f95e-47c3-b2a4-5729173b2b8b",
   "metadata": {},
   "outputs": [
    {
     "data": {
      "text/plain": [
       "0       False\n",
       "1       False\n",
       "2       False\n",
       "3       False\n",
       "4       False\n",
       "        ...  \n",
       "5560    False\n",
       "5561    False\n",
       "5562    False\n",
       "5563    False\n",
       "5564    False\n",
       "Name: patient id, Length: 5565, dtype: bool"
      ]
     },
     "execution_count": 130,
     "metadata": {},
     "output_type": "execute_result"
    }
   ],
   "source": [
    "data_to_split2['patient id'].isin(val_set)"
   ]
  },
  {
   "cell_type": "code",
   "execution_count": 120,
   "id": "c0ccebfb-4296-4dcb-9854-bdb4d56ef7d6",
   "metadata": {},
   "outputs": [
    {
     "data": {
      "text/plain": [
       "[            patient id       source country  sex   age    finding  \\\n",
       " 1839        patient224  COVID-CTset    Iran    M  36.0     Normal   \n",
       " 518            CP_3780         CNCB   China  NaN   NaN  Pneumonia   \n",
       " 846            NCP_205         CNCB   China  NaN   NaN   COVID-19   \n",
       " 5222        STOIC-9733        STOIC  France    M  55.0   COVID-19   \n",
       " 4916         STOIC-701        STOIC  France    M  65.0   COVID-19   \n",
       " ...                ...          ...     ...  ...   ...        ...   \n",
       " 5488  COVIDCTMD-cap013  COVID-CT-MD    Iran    M  55.0  Pneumonia   \n",
       " 4911        STOIC-6986        STOIC  France    F  75.0   COVID-19   \n",
       " 363            CP_1641         CNCB   China  NaN   NaN  Pneumonia   \n",
       " 3170        study_0910   MosMedData  Russia  NaN   NaN   COVID-19   \n",
       " 1199           NCP_482         CNCB   China    F  42.0   COVID-19   \n",
       " \n",
       "      verified finding slice selection   view modality  \n",
       " 1839              Yes             NaN  Axial       CT  \n",
       " 518               Yes          Expert  Axial       CT  \n",
       " 846               Yes          Expert  Axial       CT  \n",
       " 5222              Yes       Automatic  Axial       CT  \n",
       " 4916              Yes       Automatic  Axial       CT  \n",
       " ...               ...             ...    ...      ...  \n",
       " 5488              Yes          Expert  Axial       CT  \n",
       " 4911              Yes       Automatic  Axial       CT  \n",
       " 363               Yes          Expert  Axial       CT  \n",
       " 3170               No       Automatic  Axial       CT  \n",
       " 1199              Yes       Automatic  Axial       CT  \n",
       " \n",
       " [1113 rows x 10 columns]]"
      ]
     },
     "execution_count": 120,
     "metadata": {},
     "output_type": "execute_result"
    }
   ],
   "source": [
    "val_set"
   ]
  },
  {
   "cell_type": "code",
   "execution_count": null,
   "id": "0b52b1ad-e700-4283-be7e-cf11d1b2f8ad",
   "metadata": {},
   "outputs": [],
   "source": [
    "    #train_set, val_set = train_test_split(data_to_split,random_state=None,test_size=0.2)\n",
    "    while(len(val_set) != int(len(data_to_split)/5)):\n",
    "        sample = data_to_split.sample()\n",
    "        val_set.append(sample)\n",
    "        already_sampled.append(sample)"
   ]
  },
  {
   "cell_type": "code",
   "execution_count": 44,
   "id": "5329979c-5a2a-4af9-b342-a8a85317e16c",
   "metadata": {},
   "outputs": [],
   "source": [
    "val_set = []\n",
    "val_set.append(data_to_split.sample(n=int(len(data_to_split)/number_of_folds)))"
   ]
  },
  {
   "cell_type": "code",
   "execution_count": 56,
   "id": "ba853e8e-5bf8-48df-8780-e473cdc2ec17",
   "metadata": {},
   "outputs": [
    {
     "data": {
      "text/plain": [
       "1113"
      ]
     },
     "execution_count": 56,
     "metadata": {},
     "output_type": "execute_result"
    }
   ],
   "source": [
    "len(val_set[0])"
   ]
  },
  {
   "cell_type": "code",
   "execution_count": 8,
   "id": "cf48941c-eeba-4ed7-ac14-0b5aae4d4e09",
   "metadata": {},
   "outputs": [],
   "source": [
    "from sklearn.model_selection import KFold"
   ]
  },
  {
   "cell_type": "code",
   "execution_count": 10,
   "id": "0f724cc4-2fbf-43e0-99ef-03b2e52e9d11",
   "metadata": {},
   "outputs": [],
   "source": [
    "kf = KFold(n_splits=5, shuffle=True, random_state=11)"
   ]
  },
  {
   "cell_type": "code",
   "execution_count": 12,
   "id": "d62e823f-137d-4a88-a58f-7eff502a69ec",
   "metadata": {},
   "outputs": [],
   "source": [
    "for i, (train_index, val_index) in enumerate(kf.split(data_to_split)):\n",
    "    split = []\n",
    "    split.append(data_to_split.iloc[train_index])\n",
    "    split.append(data_to_split.iloc[val_index])\n",
    "    folds.append(split)"
   ]
  },
  {
   "cell_type": "code",
   "execution_count": 14,
   "id": "8f697bbc-27bf-4a63-809a-bfda7b36e054",
   "metadata": {},
   "outputs": [
    {
     "data": {
      "text/plain": [
       "finding\n",
       "COVID-19     0.772013\n",
       "Pneumonia    0.140162\n",
       "Normal       0.087826\n",
       "Name: proportion, dtype: float64"
      ]
     },
     "execution_count": 14,
     "metadata": {},
     "output_type": "execute_result"
    }
   ],
   "source": [
    "folds[1][0]['finding'].value_counts(normalize=True)"
   ]
  },
  {
   "cell_type": "code",
   "execution_count": 16,
   "id": "2a3c0ba1-fb54-4ef9-8c61-32af4031931f",
   "metadata": {},
   "outputs": [
    {
     "data": {
      "text/plain": [
       "pandas.core.frame.DataFrame"
      ]
     },
     "execution_count": 16,
     "metadata": {},
     "output_type": "execute_result"
    }
   ],
   "source": [
    "type(folds[0][0])"
   ]
  },
  {
   "cell_type": "code",
   "execution_count": 18,
   "id": "fdb30426-6e94-4785-af19-0752ca348791",
   "metadata": {},
   "outputs": [],
   "source": [
    "from pandas.testing import assert_frame_equal"
   ]
  },
  {
   "cell_type": "code",
   "execution_count": 34,
   "id": "41c772fa-3931-4874-b371-37b6041311b6",
   "metadata": {},
   "outputs": [
    {
     "name": "stdout",
     "output_type": "stream",
     "text": [
      "0       False\n",
      "1       False\n",
      "2       False\n",
      "3       False\n",
      "4       False\n",
      "        ...  \n",
      "1108    False\n",
      "1109    False\n",
      "1110    False\n",
      "1111    False\n",
      "1112    False\n",
      "Name: patient id, Length: 1113, dtype: bool\n"
     ]
    }
   ],
   "source": [
    "print(folds[0][1]['patient id'].reset_index(drop=True) == folds[1][1]['patient id'].reset_index(drop=True))"
   ]
  }
 ],
 "metadata": {
  "kernelspec": {
   "display_name": "Python [conda env:base] *",
   "language": "python",
   "name": "conda-base-py"
  },
  "language_info": {
   "codemirror_mode": {
    "name": "ipython",
    "version": 3
   },
   "file_extension": ".py",
   "mimetype": "text/x-python",
   "name": "python",
   "nbconvert_exporter": "python",
   "pygments_lexer": "ipython3",
   "version": "3.12.7"
  }
 },
 "nbformat": 4,
 "nbformat_minor": 5
}
