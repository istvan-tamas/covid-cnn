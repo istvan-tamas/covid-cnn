{
 "cells": [
  {
   "cell_type": "code",
   "execution_count": 156,
   "id": "8322f1d0-3a4a-4758-97fb-2732038d13f2",
   "metadata": {},
   "outputs": [],
   "source": [
    "import pandas as pd\n",
    "import numpy as np\n",
    "from sklearn.model_selection import train_test_split"
   ]
  },
  {
   "cell_type": "code",
   "execution_count": 158,
   "id": "4e1c180d-391c-42de-bbae-8a6ba476bb6e",
   "metadata": {},
   "outputs": [],
   "source": [
    "data_to_split = pd.read_csv('train_val_metadata.csv')"
   ]
  },
  {
   "cell_type": "code",
   "execution_count": 160,
   "id": "a3f31224-0d97-47e5-9886-a1f469faf5de",
   "metadata": {},
   "outputs": [],
   "source": [
    "number_of_folds = 5\n",
    "folds = []"
   ]
  },
  {
   "cell_type": "code",
   "execution_count": 162,
   "id": "74095554-ba10-4f4f-87ff-2bf74f1f00c5",
   "metadata": {},
   "outputs": [
    {
     "data": {
      "text/plain": [
       "['patient id',\n",
       " 'source',\n",
       " 'country',\n",
       " 'sex',\n",
       " 'age',\n",
       " 'finding',\n",
       " 'verified finding',\n",
       " 'slice selection',\n",
       " 'view',\n",
       " 'modality']"
      ]
     },
     "execution_count": 162,
     "metadata": {},
     "output_type": "execute_result"
    }
   ],
   "source": [
    "data_to_split.columns.values.tolist()"
   ]
  },
  {
   "cell_type": "code",
   "execution_count": 164,
   "id": "6fbd0c1e-0a64-447c-be99-dee8fafd8bc2",
   "metadata": {},
   "outputs": [],
   "source": [
    "for i in range(0,number_of_folds):\n",
    "    \n",
    "    data_to_split2 = data_to_split\n",
    "    \n",
    "    training_set = []\n",
    "    val_set = []\n",
    "    \n",
    "    val_set.append(data_to_split2.sample(n=int(len(data_to_split2)/number_of_folds)))\n",
    "    \n",
    "    cond = data_to_split2['patient id'].isin(val_set[0]['patient id'])\n",
    "    data_to_split2.drop(data_to_split2[cond].index, inplace = True)\n",
    "    \n",
    "    training_set.append(data_to_split2)\n",
    "    folds.append([training_set,val_set])"
   ]
  },
  {
   "cell_type": "code",
   "execution_count": 178,
   "id": "dc05cb0c-92aa-4c29-8abc-d4f7be5bd266",
   "metadata": {},
   "outputs": [
    {
     "data": {
      "text/plain": [
       "[               patient id       source country  sex   age    finding  \\\n",
       " 0                   CP_10         CNCB   China  NaN   NaN  Pneumonia   \n",
       " 1                 CP_1068         CNCB   China  NaN   NaN  Pneumonia   \n",
       " 2                 CP_1071         CNCB   China  NaN   NaN  Pneumonia   \n",
       " 3                 CP_1072         CNCB   China  NaN   NaN  Pneumonia   \n",
       " 5                 CP_1075         CNCB   China  NaN   NaN  Pneumonia   \n",
       " ...                   ...          ...     ...  ...   ...        ...   \n",
       " 5557  COVIDCTMD-normal066  COVID-CT-MD    Iran    M  30.0     Normal   \n",
       " 5558  COVIDCTMD-normal069  COVID-CT-MD    Iran    F  26.0     Normal   \n",
       " 5559  COVIDCTMD-normal070  COVID-CT-MD    Iran    M  60.0     Normal   \n",
       " 5560  COVIDCTMD-normal071  COVID-CT-MD    Iran    F  43.0     Normal   \n",
       " 5561  COVIDCTMD-normal072  COVID-CT-MD    Iran    M  31.0     Normal   \n",
       " \n",
       "      verified finding slice selection   view modality  \n",
       " 0                 Yes       Automatic  Axial       CT  \n",
       " 1                 Yes       Automatic  Axial       CT  \n",
       " 2                 Yes          Expert  Axial       CT  \n",
       " 3                 Yes          Expert  Axial       CT  \n",
       " 5                 Yes          Expert  Axial       CT  \n",
       " ...               ...             ...    ...      ...  \n",
       " 5557              Yes             NaN  Axial       CT  \n",
       " 5558              Yes             NaN  Axial       CT  \n",
       " 5559              Yes             NaN  Axial       CT  \n",
       " 5560              Yes             NaN  Axial       CT  \n",
       " 5561              Yes             NaN  Axial       CT  \n",
       " \n",
       " [4452 rows x 10 columns]]"
      ]
     },
     "execution_count": 178,
     "metadata": {},
     "output_type": "execute_result"
    }
   ],
   "source": [
    "folds[0][0]"
   ]
  },
  {
   "cell_type": "code",
   "execution_count": 144,
   "id": "6cc6a066-77be-4366-a9d6-7817dfd730dd",
   "metadata": {},
   "outputs": [
    {
     "data": {
      "text/plain": [
       "0"
      ]
     },
     "execution_count": 144,
     "metadata": {},
     "output_type": "execute_result"
    }
   ],
   "source": [
    "data_to_split2['patient id'].isna().sum()"
   ]
  },
  {
   "cell_type": "code",
   "execution_count": 130,
   "id": "65e21b0d-f95e-47c3-b2a4-5729173b2b8b",
   "metadata": {},
   "outputs": [
    {
     "data": {
      "text/plain": [
       "0       False\n",
       "1       False\n",
       "2       False\n",
       "3       False\n",
       "4       False\n",
       "        ...  \n",
       "5560    False\n",
       "5561    False\n",
       "5562    False\n",
       "5563    False\n",
       "5564    False\n",
       "Name: patient id, Length: 5565, dtype: bool"
      ]
     },
     "execution_count": 130,
     "metadata": {},
     "output_type": "execute_result"
    }
   ],
   "source": [
    "data_to_split2['patient id'].isin(val_set)"
   ]
  },
  {
   "cell_type": "code",
   "execution_count": 120,
   "id": "c0ccebfb-4296-4dcb-9854-bdb4d56ef7d6",
   "metadata": {},
   "outputs": [
    {
     "data": {
      "text/plain": [
       "[            patient id       source country  sex   age    finding  \\\n",
       " 1839        patient224  COVID-CTset    Iran    M  36.0     Normal   \n",
       " 518            CP_3780         CNCB   China  NaN   NaN  Pneumonia   \n",
       " 846            NCP_205         CNCB   China  NaN   NaN   COVID-19   \n",
       " 5222        STOIC-9733        STOIC  France    M  55.0   COVID-19   \n",
       " 4916         STOIC-701        STOIC  France    M  65.0   COVID-19   \n",
       " ...                ...          ...     ...  ...   ...        ...   \n",
       " 5488  COVIDCTMD-cap013  COVID-CT-MD    Iran    M  55.0  Pneumonia   \n",
       " 4911        STOIC-6986        STOIC  France    F  75.0   COVID-19   \n",
       " 363            CP_1641         CNCB   China  NaN   NaN  Pneumonia   \n",
       " 3170        study_0910   MosMedData  Russia  NaN   NaN   COVID-19   \n",
       " 1199           NCP_482         CNCB   China    F  42.0   COVID-19   \n",
       " \n",
       "      verified finding slice selection   view modality  \n",
       " 1839              Yes             NaN  Axial       CT  \n",
       " 518               Yes          Expert  Axial       CT  \n",
       " 846               Yes          Expert  Axial       CT  \n",
       " 5222              Yes       Automatic  Axial       CT  \n",
       " 4916              Yes       Automatic  Axial       CT  \n",
       " ...               ...             ...    ...      ...  \n",
       " 5488              Yes          Expert  Axial       CT  \n",
       " 4911              Yes       Automatic  Axial       CT  \n",
       " 363               Yes          Expert  Axial       CT  \n",
       " 3170               No       Automatic  Axial       CT  \n",
       " 1199              Yes       Automatic  Axial       CT  \n",
       " \n",
       " [1113 rows x 10 columns]]"
      ]
     },
     "execution_count": 120,
     "metadata": {},
     "output_type": "execute_result"
    }
   ],
   "source": [
    "val_set"
   ]
  },
  {
   "cell_type": "code",
   "execution_count": null,
   "id": "0b52b1ad-e700-4283-be7e-cf11d1b2f8ad",
   "metadata": {},
   "outputs": [],
   "source": [
    "    #train_set, val_set = train_test_split(data_to_split,random_state=None,test_size=0.2)\n",
    "    while(len(val_set) != int(len(data_to_split)/5)):\n",
    "        sample = data_to_split.sample()\n",
    "        val_set.append(sample)\n",
    "        already_sampled.append(sample)"
   ]
  },
  {
   "cell_type": "code",
   "execution_count": 44,
   "id": "5329979c-5a2a-4af9-b342-a8a85317e16c",
   "metadata": {},
   "outputs": [],
   "source": [
    "val_set = []\n",
    "val_set.append(data_to_split.sample(n=int(len(data_to_split)/number_of_folds)))"
   ]
  },
  {
   "cell_type": "code",
   "execution_count": 56,
   "id": "ba853e8e-5bf8-48df-8780-e473cdc2ec17",
   "metadata": {},
   "outputs": [
    {
     "data": {
      "text/plain": [
       "1113"
      ]
     },
     "execution_count": 56,
     "metadata": {},
     "output_type": "execute_result"
    }
   ],
   "source": [
    "len(val_set[0])"
   ]
  },
  {
   "cell_type": "code",
   "execution_count": 8,
   "id": "cf48941c-eeba-4ed7-ac14-0b5aae4d4e09",
   "metadata": {},
   "outputs": [],
   "source": [
    "from sklearn.model_selection import KFold"
   ]
  },
  {
   "cell_type": "code",
   "execution_count": 10,
   "id": "0f724cc4-2fbf-43e0-99ef-03b2e52e9d11",
   "metadata": {},
   "outputs": [],
   "source": [
    "kf = KFold(n_splits=5, shuffle=True, random_state=11)"
   ]
  },
  {
   "cell_type": "code",
   "execution_count": 12,
   "id": "d62e823f-137d-4a88-a58f-7eff502a69ec",
   "metadata": {},
   "outputs": [],
   "source": [
    "for i, (train_index, val_index) in enumerate(kf.split(data_to_split)):\n",
    "    split = []\n",
    "    split.append(data_to_split.iloc[train_index])\n",
    "    split.append(data_to_split.iloc[val_index])\n",
    "    folds.append(split)"
   ]
  },
  {
   "cell_type": "code",
   "execution_count": 14,
   "id": "8f697bbc-27bf-4a63-809a-bfda7b36e054",
   "metadata": {},
   "outputs": [
    {
     "data": {
      "text/plain": [
       "finding\n",
       "COVID-19     0.772013\n",
       "Pneumonia    0.140162\n",
       "Normal       0.087826\n",
       "Name: proportion, dtype: float64"
      ]
     },
     "execution_count": 14,
     "metadata": {},
     "output_type": "execute_result"
    }
   ],
   "source": [
    "folds[1][0]['finding'].value_counts(normalize=True)"
   ]
  },
  {
   "cell_type": "code",
   "execution_count": 16,
   "id": "2a3c0ba1-fb54-4ef9-8c61-32af4031931f",
   "metadata": {},
   "outputs": [
    {
     "data": {
      "text/plain": [
       "pandas.core.frame.DataFrame"
      ]
     },
     "execution_count": 16,
     "metadata": {},
     "output_type": "execute_result"
    }
   ],
   "source": [
    "type(folds[0][0])"
   ]
  },
  {
   "cell_type": "code",
   "execution_count": 18,
   "id": "fdb30426-6e94-4785-af19-0752ca348791",
   "metadata": {},
   "outputs": [],
   "source": [
    "from pandas.testing import assert_frame_equal"
   ]
  },
  {
   "cell_type": "code",
   "execution_count": 34,
   "id": "41c772fa-3931-4874-b371-37b6041311b6",
   "metadata": {},
   "outputs": [
    {
     "name": "stdout",
     "output_type": "stream",
     "text": [
      "0       False\n",
      "1       False\n",
      "2       False\n",
      "3       False\n",
      "4       False\n",
      "        ...  \n",
      "1108    False\n",
      "1109    False\n",
      "1110    False\n",
      "1111    False\n",
      "1112    False\n",
      "Name: patient id, Length: 1113, dtype: bool\n"
     ]
    }
   ],
   "source": [
    "print(folds[0][1]['patient id'].reset_index(drop=True) == folds[1][1]['patient id'].reset_index(drop=True))"
   ]
  }
 ],
 "metadata": {
  "kernelspec": {
   "display_name": "Python 3 (ipykernel)",
   "language": "python",
   "name": "python3"
  },
  "language_info": {
   "codemirror_mode": {
    "name": "ipython",
    "version": 3
   },
   "file_extension": ".py",
   "mimetype": "text/x-python",
   "name": "python",
   "nbconvert_exporter": "python",
   "pygments_lexer": "ipython3",
   "version": "3.11.7"
  }
 },
 "nbformat": 4,
 "nbformat_minor": 5
}
