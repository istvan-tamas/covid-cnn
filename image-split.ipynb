{
 "cells": [
  {
   "cell_type": "code",
   "execution_count": 121,
   "id": "8322f1d0-3a4a-4758-97fb-2732038d13f2",
   "metadata": {},
   "outputs": [],
   "source": [
    "import pandas as pd\n",
    "import numpy as np\n",
    "from sklearn.model_selection import train_test_split"
   ]
  },
  {
   "cell_type": "code",
   "execution_count": 123,
   "id": "4e1c180d-391c-42de-bbae-8a6ba476bb6e",
   "metadata": {},
   "outputs": [],
   "source": [
    "data_to_split = pd.read_csv('train_val_metadata.csv')"
   ]
  },
  {
   "cell_type": "code",
   "execution_count": null,
   "id": "321cb1ae-01a6-44c3-8cca-4bc43fe5a209",
   "metadata": {},
   "outputs": [],
   "source": [
    "# cond = data_to_split['patient id'].isin(train_set['patient id'])\n",
    "# data_to_split.drop(data_to_split[cond].index, inplace = True)"
   ]
  },
  {
   "cell_type": "code",
   "execution_count": 125,
   "id": "a3f31224-0d97-47e5-9886-a1f469faf5de",
   "metadata": {},
   "outputs": [],
   "source": [
    "folds = []\n",
    "# number_of_splits = 5"
   ]
  },
  {
   "cell_type": "code",
   "execution_count": 136,
   "id": "2659c7e7-a077-482d-b356-2caca9252397",
   "metadata": {},
   "outputs": [],
   "source": [
    "# tst = data_to_split.sample(int(len(data_to_split)*0.2))"
   ]
  },
  {
   "cell_type": "code",
   "execution_count": 144,
   "id": "6a0caa3b-d640-4590-999f-694aca56bbab",
   "metadata": {},
   "outputs": [
    {
     "data": {
      "text/plain": [
       "1177     True\n",
       "2604     True\n",
       "3912     True\n",
       "4946     True\n",
       "2025    False\n",
       "        ...  \n",
       "4355     True\n",
       "1904    False\n",
       "4078     True\n",
       "5145     True\n",
       "882      True\n",
       "Name: finding, Length: 1113, dtype: bool"
      ]
     },
     "execution_count": 144,
     "metadata": {},
     "output_type": "execute_result"
    }
   ],
   "source": [
    "# tst['finding'] == 'COVID-19'"
   ]
  },
  {
   "cell_type": "code",
   "execution_count": 158,
   "id": "39ba8c2d-1c1f-444f-8e9f-31e9d5abe0ba",
   "metadata": {},
   "outputs": [],
   "source": [
    "# train_set, val_set = train_test_split(data_to_split)"
   ]
  },
  {
   "cell_type": "code",
   "execution_count": 160,
   "id": "0a043e27-1d57-4d8a-aa4c-186cefa8d797",
   "metadata": {},
   "outputs": [
    {
     "data": {
      "text/html": [
       "<div>\n",
       "<style scoped>\n",
       "    .dataframe tbody tr th:only-of-type {\n",
       "        vertical-align: middle;\n",
       "    }\n",
       "\n",
       "    .dataframe tbody tr th {\n",
       "        vertical-align: top;\n",
       "    }\n",
       "\n",
       "    .dataframe thead th {\n",
       "        text-align: right;\n",
       "    }\n",
       "</style>\n",
       "<table border=\"1\" class=\"dataframe\">\n",
       "  <thead>\n",
       "    <tr style=\"text-align: right;\">\n",
       "      <th></th>\n",
       "      <th>patient id</th>\n",
       "      <th>source</th>\n",
       "      <th>country</th>\n",
       "      <th>sex</th>\n",
       "      <th>age</th>\n",
       "      <th>finding</th>\n",
       "      <th>verified finding</th>\n",
       "      <th>slice selection</th>\n",
       "      <th>view</th>\n",
       "      <th>modality</th>\n",
       "    </tr>\n",
       "  </thead>\n",
       "  <tbody>\n",
       "    <tr>\n",
       "      <th>3492</th>\n",
       "      <td>HUST-Patient1233</td>\n",
       "      <td>iCTCF</td>\n",
       "      <td>China</td>\n",
       "      <td>F</td>\n",
       "      <td>65.0</td>\n",
       "      <td>COVID-19</td>\n",
       "      <td>Yes</td>\n",
       "      <td>Automatic</td>\n",
       "      <td>Axial</td>\n",
       "      <td>CT</td>\n",
       "    </tr>\n",
       "    <tr>\n",
       "      <th>1429</th>\n",
       "      <td>Normal_1761</td>\n",
       "      <td>CNCB</td>\n",
       "      <td>China</td>\n",
       "      <td>NaN</td>\n",
       "      <td>NaN</td>\n",
       "      <td>Normal</td>\n",
       "      <td>Yes</td>\n",
       "      <td>NaN</td>\n",
       "      <td>Axial</td>\n",
       "      <td>CT</td>\n",
       "    </tr>\n",
       "    <tr>\n",
       "      <th>3670</th>\n",
       "      <td>HUST-Patient161</td>\n",
       "      <td>iCTCF</td>\n",
       "      <td>China</td>\n",
       "      <td>F</td>\n",
       "      <td>32.0</td>\n",
       "      <td>COVID-19</td>\n",
       "      <td>Yes</td>\n",
       "      <td>Automatic</td>\n",
       "      <td>Axial</td>\n",
       "      <td>CT</td>\n",
       "    </tr>\n",
       "    <tr>\n",
       "      <th>3340</th>\n",
       "      <td>study_1085</td>\n",
       "      <td>MosMedData</td>\n",
       "      <td>Russia</td>\n",
       "      <td>NaN</td>\n",
       "      <td>NaN</td>\n",
       "      <td>COVID-19</td>\n",
       "      <td>No</td>\n",
       "      <td>Automatic</td>\n",
       "      <td>Axial</td>\n",
       "      <td>CT</td>\n",
       "    </tr>\n",
       "    <tr>\n",
       "      <th>2257</th>\n",
       "      <td>volume-covid19-A-0144</td>\n",
       "      <td>TCIA</td>\n",
       "      <td>NaN</td>\n",
       "      <td>NaN</td>\n",
       "      <td>NaN</td>\n",
       "      <td>COVID-19</td>\n",
       "      <td>Yes</td>\n",
       "      <td>Automatic</td>\n",
       "      <td>Axial</td>\n",
       "      <td>CT</td>\n",
       "    </tr>\n",
       "    <tr>\n",
       "      <th>...</th>\n",
       "      <td>...</td>\n",
       "      <td>...</td>\n",
       "      <td>...</td>\n",
       "      <td>...</td>\n",
       "      <td>...</td>\n",
       "      <td>...</td>\n",
       "      <td>...</td>\n",
       "      <td>...</td>\n",
       "      <td>...</td>\n",
       "      <td>...</td>\n",
       "    </tr>\n",
       "    <tr>\n",
       "      <th>2291</th>\n",
       "      <td>volume-covid19-A-0196_1</td>\n",
       "      <td>TCIA</td>\n",
       "      <td>NaN</td>\n",
       "      <td>NaN</td>\n",
       "      <td>NaN</td>\n",
       "      <td>COVID-19</td>\n",
       "      <td>Yes</td>\n",
       "      <td>Automatic</td>\n",
       "      <td>Axial</td>\n",
       "      <td>CT</td>\n",
       "    </tr>\n",
       "    <tr>\n",
       "      <th>3224</th>\n",
       "      <td>study_0968</td>\n",
       "      <td>MosMedData</td>\n",
       "      <td>Russia</td>\n",
       "      <td>NaN</td>\n",
       "      <td>NaN</td>\n",
       "      <td>COVID-19</td>\n",
       "      <td>No</td>\n",
       "      <td>Automatic</td>\n",
       "      <td>Axial</td>\n",
       "      <td>CT</td>\n",
       "    </tr>\n",
       "    <tr>\n",
       "      <th>1757</th>\n",
       "      <td>patient141</td>\n",
       "      <td>COVID-CTset</td>\n",
       "      <td>Iran</td>\n",
       "      <td>M</td>\n",
       "      <td>52.0</td>\n",
       "      <td>COVID-19</td>\n",
       "      <td>Yes</td>\n",
       "      <td>Expert</td>\n",
       "      <td>Axial</td>\n",
       "      <td>CT</td>\n",
       "    </tr>\n",
       "    <tr>\n",
       "      <th>5151</th>\n",
       "      <td>STOIC-9071</td>\n",
       "      <td>STOIC</td>\n",
       "      <td>France</td>\n",
       "      <td>M</td>\n",
       "      <td>65.0</td>\n",
       "      <td>COVID-19</td>\n",
       "      <td>Yes</td>\n",
       "      <td>Automatic</td>\n",
       "      <td>Axial</td>\n",
       "      <td>CT</td>\n",
       "    </tr>\n",
       "    <tr>\n",
       "      <th>262</th>\n",
       "      <td>CP_1497</td>\n",
       "      <td>CNCB</td>\n",
       "      <td>China</td>\n",
       "      <td>NaN</td>\n",
       "      <td>NaN</td>\n",
       "      <td>Pneumonia</td>\n",
       "      <td>Yes</td>\n",
       "      <td>Expert</td>\n",
       "      <td>Axial</td>\n",
       "      <td>CT</td>\n",
       "    </tr>\n",
       "  </tbody>\n",
       "</table>\n",
       "<p>4173 rows × 10 columns</p>\n",
       "</div>"
      ],
      "text/plain": [
       "                   patient id       source country  sex   age    finding  \\\n",
       "3492         HUST-Patient1233        iCTCF   China    F  65.0   COVID-19   \n",
       "1429              Normal_1761         CNCB   China  NaN   NaN     Normal   \n",
       "3670          HUST-Patient161        iCTCF   China    F  32.0   COVID-19   \n",
       "3340               study_1085   MosMedData  Russia  NaN   NaN   COVID-19   \n",
       "2257    volume-covid19-A-0144         TCIA     NaN  NaN   NaN   COVID-19   \n",
       "...                       ...          ...     ...  ...   ...        ...   \n",
       "2291  volume-covid19-A-0196_1         TCIA     NaN  NaN   NaN   COVID-19   \n",
       "3224               study_0968   MosMedData  Russia  NaN   NaN   COVID-19   \n",
       "1757               patient141  COVID-CTset    Iran    M  52.0   COVID-19   \n",
       "5151               STOIC-9071        STOIC  France    M  65.0   COVID-19   \n",
       "262                   CP_1497         CNCB   China  NaN   NaN  Pneumonia   \n",
       "\n",
       "     verified finding slice selection   view modality  \n",
       "3492              Yes       Automatic  Axial       CT  \n",
       "1429              Yes             NaN  Axial       CT  \n",
       "3670              Yes       Automatic  Axial       CT  \n",
       "3340               No       Automatic  Axial       CT  \n",
       "2257              Yes       Automatic  Axial       CT  \n",
       "...               ...             ...    ...      ...  \n",
       "2291              Yes       Automatic  Axial       CT  \n",
       "3224               No       Automatic  Axial       CT  \n",
       "1757              Yes          Expert  Axial       CT  \n",
       "5151              Yes       Automatic  Axial       CT  \n",
       "262               Yes          Expert  Axial       CT  \n",
       "\n",
       "[4173 rows x 10 columns]"
      ]
     },
     "execution_count": 160,
     "metadata": {},
     "output_type": "execute_result"
    }
   ],
   "source": [
    "# train_set"
   ]
  },
  {
   "cell_type": "code",
   "execution_count": 156,
   "id": "6fbd0c1e-0a64-447c-be99-dee8fafd8bc2",
   "metadata": {},
   "outputs": [
    {
     "data": {
      "text/plain": [
       "5565"
      ]
     },
     "execution_count": 156,
     "metadata": {},
     "output_type": "execute_result"
    }
   ],
   "source": [
    "already_sampled = []\n",
    "\n",
    "for i in range(0,number_of_splits):\n",
    "    val_set = []\n",
    "    #train_set, val_set = train_test_split(data_to_split,random_state=None,test_size=0.2)\n",
    "    while(len(val_set) != int(len(data_to_split)/5)):\n",
    "        sample = data_to_split.sample()\n",
    "        val_set.append(sample)\n",
    "        already_sampled.append(sample)\n",
    "\n",
    "\n",
    "len(already_sampled)"
   ]
  },
  {
   "cell_type": "code",
   "execution_count": 127,
   "id": "cf48941c-eeba-4ed7-ac14-0b5aae4d4e09",
   "metadata": {},
   "outputs": [],
   "source": [
    "from sklearn.model_selection import KFold"
   ]
  },
  {
   "cell_type": "code",
   "execution_count": 129,
   "id": "0f724cc4-2fbf-43e0-99ef-03b2e52e9d11",
   "metadata": {},
   "outputs": [],
   "source": [
    "kf = KFold(n_splits=5, shuffle=True, random_state=11)"
   ]
  },
  {
   "cell_type": "code",
   "execution_count": 131,
   "id": "d62e823f-137d-4a88-a58f-7eff502a69ec",
   "metadata": {},
   "outputs": [],
   "source": [
    "for i, (train_index, val_index) in enumerate(kf.split(data_to_split)):\n",
    "    split = []\n",
    "    split.append(data_to_split.iloc[train_index])\n",
    "    split.append(data_to_split.iloc[val_index])\n",
    "    folds.append(split)"
   ]
  },
  {
   "cell_type": "code",
   "execution_count": 151,
   "id": "8f697bbc-27bf-4a63-809a-bfda7b36e054",
   "metadata": {},
   "outputs": [
    {
     "data": {
      "text/plain": [
       "finding\n",
       "COVID-19     0.772013\n",
       "Pneumonia    0.140162\n",
       "Normal       0.087826\n",
       "Name: proportion, dtype: float64"
      ]
     },
     "execution_count": 151,
     "metadata": {},
     "output_type": "execute_result"
    }
   ],
   "source": [
    "folds[1][0]['finding'].value_counts(normalize=True)"
   ]
  },
  {
   "cell_type": "code",
   "execution_count": 153,
   "id": "2a3c0ba1-fb54-4ef9-8c61-32af4031931f",
   "metadata": {},
   "outputs": [
    {
     "data": {
      "text/plain": [
       "pandas.core.frame.DataFrame"
      ]
     },
     "execution_count": 153,
     "metadata": {},
     "output_type": "execute_result"
    }
   ],
   "source": [
    "type(folds[0][0])"
   ]
  },
  {
   "cell_type": "code",
   "execution_count": 155,
   "id": "fdb30426-6e94-4785-af19-0752ca348791",
   "metadata": {},
   "outputs": [],
   "source": [
    "from pandas.testing import assert_frame_equal"
   ]
  },
  {
   "cell_type": "code",
   "execution_count": 163,
   "id": "0396f0b7-5160-4c66-929f-1035f10baf5b",
   "metadata": {},
   "outputs": [
    {
     "ename": "AssertionError",
     "evalue": "DataFrame.index are different\n\nDataFrame.index values are different (98.51752 %)\n[left]:  Index([   0,    2,    3,    4,    6,    7,    8,    9,   10,   11,\n       ...\n       5554, 5555, 5556, 5558, 5559, 5560, 5561, 5562, 5563, 5564],\n      dtype='int64', length=4452)\n[right]: Index([   0,    1,    2,    3,    4,    5,    6,    7,    8,    9,\n       ...\n       5553, 5554, 5555, 5556, 5557, 5559, 5561, 5562, 5563, 5564],\n      dtype='int64', length=4452)\nAt positional index 1, first diff: 2 != 1",
     "output_type": "error",
     "traceback": [
      "\u001b[1;31m---------------------------------------------------------------------------\u001b[0m",
      "\u001b[1;31mAssertionError\u001b[0m                            Traceback (most recent call last)",
      "Cell \u001b[1;32mIn[163], line 1\u001b[0m\n\u001b[1;32m----> 1\u001b[0m assert_frame_equal(folds[\u001b[38;5;241m0\u001b[39m][\u001b[38;5;241m0\u001b[39m], folds[\u001b[38;5;241m1\u001b[39m][\u001b[38;5;241m0\u001b[39m])\n",
      "    \u001b[1;31m[... skipping hidden 2 frame]\u001b[0m\n",
      "File \u001b[1;32mtesting.pyx:55\u001b[0m, in \u001b[0;36mpandas._libs.testing.assert_almost_equal\u001b[1;34m()\u001b[0m\n",
      "File \u001b[1;32mtesting.pyx:173\u001b[0m, in \u001b[0;36mpandas._libs.testing.assert_almost_equal\u001b[1;34m()\u001b[0m\n",
      "File \u001b[1;32mC:\\ProgramData\\anaconda3\\Lib\\site-packages\\pandas\\_testing\\asserters.py:614\u001b[0m, in \u001b[0;36mraise_assert_detail\u001b[1;34m(obj, message, left, right, diff, first_diff, index_values)\u001b[0m\n\u001b[0;32m    611\u001b[0m \u001b[38;5;28;01mif\u001b[39;00m first_diff \u001b[38;5;129;01mis\u001b[39;00m \u001b[38;5;129;01mnot\u001b[39;00m \u001b[38;5;28;01mNone\u001b[39;00m:\n\u001b[0;32m    612\u001b[0m     msg \u001b[38;5;241m+\u001b[39m\u001b[38;5;241m=\u001b[39m \u001b[38;5;124mf\u001b[39m\u001b[38;5;124m\"\u001b[39m\u001b[38;5;130;01m\\n\u001b[39;00m\u001b[38;5;132;01m{\u001b[39;00mfirst_diff\u001b[38;5;132;01m}\u001b[39;00m\u001b[38;5;124m\"\u001b[39m\n\u001b[1;32m--> 614\u001b[0m \u001b[38;5;28;01mraise\u001b[39;00m \u001b[38;5;167;01mAssertionError\u001b[39;00m(msg)\n",
      "\u001b[1;31mAssertionError\u001b[0m: DataFrame.index are different\n\nDataFrame.index values are different (98.51752 %)\n[left]:  Index([   0,    2,    3,    4,    6,    7,    8,    9,   10,   11,\n       ...\n       5554, 5555, 5556, 5558, 5559, 5560, 5561, 5562, 5563, 5564],\n      dtype='int64', length=4452)\n[right]: Index([   0,    1,    2,    3,    4,    5,    6,    7,    8,    9,\n       ...\n       5553, 5554, 5555, 5556, 5557, 5559, 5561, 5562, 5563, 5564],\n      dtype='int64', length=4452)\nAt positional index 1, first diff: 2 != 1"
     ]
    }
   ],
   "source": [
    "assert_frame_equal(folds[0][0], folds[1][0])"
   ]
  },
  {
   "cell_type": "code",
   "execution_count": 221,
   "id": "41c772fa-3931-4874-b371-37b6041311b6",
   "metadata": {},
   "outputs": [
    {
     "name": "stdout",
     "output_type": "stream",
     "text": [
      "0       False\n",
      "1       False\n",
      "2       False\n",
      "3       False\n",
      "4       False\n",
      "        ...  \n",
      "1108    False\n",
      "1109    False\n",
      "1110    False\n",
      "1111    False\n",
      "1112    False\n",
      "Name: patient id, Length: 1113, dtype: bool\n"
     ]
    }
   ],
   "source": [
    "print(folds[3][1]['patient id'].reset_index(drop=True) == folds[2][1]['patient id'].reset_index(drop=True))"
   ]
  }
 ],
 "metadata": {
  "kernelspec": {
   "display_name": "Python [conda env:base] *",
   "language": "python",
   "name": "conda-base-py"
  },
  "language_info": {
   "codemirror_mode": {
    "name": "ipython",
    "version": 3
   },
   "file_extension": ".py",
   "mimetype": "text/x-python",
   "name": "python",
   "nbconvert_exporter": "python",
   "pygments_lexer": "ipython3",
   "version": "3.12.7"
  }
 },
 "nbformat": 4,
 "nbformat_minor": 5
}
