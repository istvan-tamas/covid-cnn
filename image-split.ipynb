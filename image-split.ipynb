{
 "cells": [
  {
   "cell_type": "code",
   "execution_count": 1,
   "id": "8322f1d0-3a4a-4758-97fb-2732038d13f2",
   "metadata": {},
   "outputs": [],
   "source": [
    "import pandas as pd\n",
    "import numpy as np\n",
    "from sklearn.model_selection import train_test_split"
   ]
  },
  {
   "cell_type": "code",
   "execution_count": 3,
   "id": "fdb4bda9-42dc-416f-a414-63e57f9cbb12",
   "metadata": {},
   "outputs": [],
   "source": [
    "import warnings\n",
    "warnings.filterwarnings('ignore')"
   ]
  },
  {
   "cell_type": "code",
   "execution_count": 5,
   "id": "4e1c180d-391c-42de-bbae-8a6ba476bb6e",
   "metadata": {},
   "outputs": [],
   "source": [
    "data_to_split = pd.read_csv('train_val_metadata.csv')"
   ]
  },
  {
   "cell_type": "code",
   "execution_count": 7,
   "id": "a3f31224-0d97-47e5-9886-a1f469faf5de",
   "metadata": {},
   "outputs": [],
   "source": [
    "number_of_folds = 5\n",
    "folds = []"
   ]
  },
  {
   "cell_type": "code",
   "execution_count": 9,
   "id": "eace8e94-c8b6-4cda-9a7d-667cac3e4ab9",
   "metadata": {},
   "outputs": [
    {
     "data": {
      "text/plain": [
       "5565"
      ]
     },
     "execution_count": 9,
     "metadata": {},
     "output_type": "execute_result"
    }
   ],
   "source": [
    "len(data_to_split)"
   ]
  },
  {
   "cell_type": "code",
   "execution_count": 11,
   "id": "74095554-ba10-4f4f-87ff-2bf74f1f00c5",
   "metadata": {},
   "outputs": [
    {
     "data": {
      "text/plain": [
       "['patient id',\n",
       " 'source',\n",
       " 'country',\n",
       " 'sex',\n",
       " 'age',\n",
       " 'finding',\n",
       " 'verified finding',\n",
       " 'slice selection',\n",
       " 'view',\n",
       " 'modality']"
      ]
     },
     "execution_count": 11,
     "metadata": {},
     "output_type": "execute_result"
    }
   ],
   "source": [
    "data_to_split.columns.values.tolist()"
   ]
  },
  {
   "cell_type": "code",
   "execution_count": 13,
   "id": "6d76e2b4-dadc-4d5f-9233-10240b102209",
   "metadata": {},
   "outputs": [],
   "source": [
    "already_sampled = pd.DataFrame(columns=data_to_split.columns.values.tolist())\n",
    "\n",
    "for i in range(0,number_of_folds):\n",
    "    \n",
    "    training_set = pd.DataFrame(columns=data_to_split.columns.values.tolist())\n",
    "    val_set = pd.DataFrame(columns=data_to_split.columns.values.tolist())\n",
    "\n",
    "    training_set = data_to_split\n",
    "\n",
    "    i = 0\n",
    "    \n",
    "    while(i < int(len(data_to_split)/number_of_folds)):\n",
    "        sample = training_set.sample(n=1)\n",
    "        if sample['patient id'].isin(already_sampled['patient id']).values[0]:\n",
    "            continue\n",
    "        else:\n",
    "            val_set = pd.concat([val_set,sample])\n",
    "            already_sampled = pd.concat([already_sampled,sample])\n",
    "            #cond = training_set['patient id'].isin(sample['patient id'])\n",
    "            #training_set.drop(training_set[cond].index, inplace = True)\n",
    "            training_set = training_set.drop(sample.index, inplace=False)\n",
    "            i = i + 1\n",
    "            \n",
    "    temp = []\n",
    "    temp.append(training_set)\n",
    "    temp.append(val_set)\n",
    "    folds.append(temp)"
   ]
  },
  {
   "cell_type": "code",
   "execution_count": 15,
   "id": "47bd43ed-e392-4212-bfcc-f75642f04007",
   "metadata": {},
   "outputs": [
    {
     "data": {
      "text/plain": [
       "5565"
      ]
     },
     "execution_count": 15,
     "metadata": {},
     "output_type": "execute_result"
    }
   ],
   "source": [
    "len(already_sampled)"
   ]
  },
  {
   "cell_type": "code",
   "execution_count": 17,
   "id": "c5c0f1f6-d620-4118-b34c-e59cb14b806b",
   "metadata": {},
   "outputs": [
    {
     "name": "stdout",
     "output_type": "stream",
     "text": [
      "Training set length: 4452\n",
      "Validation set length: 1113\n",
      "Total dataset length: 5565\n",
      "\n",
      "\n",
      "Training set length: 4452\n",
      "Validation set length: 1113\n",
      "Total dataset length: 5565\n",
      "\n",
      "\n",
      "Training set length: 4452\n",
      "Validation set length: 1113\n",
      "Total dataset length: 5565\n",
      "\n",
      "\n",
      "Training set length: 4452\n",
      "Validation set length: 1113\n",
      "Total dataset length: 5565\n",
      "\n",
      "\n",
      "Training set length: 4452\n",
      "Validation set length: 1113\n",
      "Total dataset length: 5565\n",
      "\n",
      "\n"
     ]
    }
   ],
   "source": [
    "for i in range(0, len(folds)):\n",
    "    print(\"Training set length: \" + str(len(folds[i][0])))\n",
    "    print(\"Validation set length: \" + str(len(folds[i][1])))\n",
    "    print(\"Total dataset length: \" + str(len(folds[i][0]) + len(folds[i][1])))\n",
    "    print(\"\\n\")"
   ]
  },
  {
   "cell_type": "code",
   "execution_count": 21,
   "id": "996c4e48-0faf-41b9-b07f-6d3ce1d6ef97",
   "metadata": {},
   "outputs": [
    {
     "name": "stdout",
     "output_type": "stream",
     "text": [
      "finding\n",
      "COVID-19     0.772686\n",
      "Pneumonia    0.140162\n",
      "Normal       0.087152\n",
      "Name: proportion, dtype: float64\n",
      "finding\n",
      "COVID-19     0.770216\n",
      "Pneumonia    0.141959\n",
      "Normal       0.087826\n",
      "Name: proportion, dtype: float64\n",
      "finding\n",
      "COVID-19     0.772462\n",
      "Pneumonia    0.140162\n",
      "Normal       0.087376\n",
      "Name: proportion, dtype: float64\n",
      "finding\n",
      "COVID-19     0.768194\n",
      "Pneumonia    0.144654\n",
      "Normal       0.087152\n",
      "Name: proportion, dtype: float64\n",
      "finding\n",
      "COVID-19     0.767296\n",
      "Pneumonia    0.146451\n",
      "Normal       0.086253\n",
      "Name: proportion, dtype: float64\n"
     ]
    }
   ],
   "source": [
    "# Distribution of class labels in training data\n",
    "for i in range(0, len(folds)):\n",
    "    print(folds[i][0]['finding'].value_counts(normalize=True))"
   ]
  },
  {
   "cell_type": "code",
   "execution_count": 23,
   "id": "295c59fb-a9a4-4737-b414-c82b6b8a8ca8",
   "metadata": {},
   "outputs": [
    {
     "name": "stdout",
     "output_type": "stream",
     "text": [
      "finding\n",
      "COVID-19     0.760108\n",
      "Pneumonia    0.152740\n",
      "Normal       0.087152\n",
      "Name: proportion, dtype: float64\n",
      "finding\n",
      "COVID-19     0.769991\n",
      "Pneumonia    0.145553\n",
      "Normal       0.084456\n",
      "Name: proportion, dtype: float64\n",
      "finding\n",
      "COVID-19     0.761006\n",
      "Pneumonia    0.152740\n",
      "Normal       0.086253\n",
      "Name: proportion, dtype: float64\n",
      "finding\n",
      "COVID-19     0.778077\n",
      "Pneumonia    0.134771\n",
      "Normal       0.087152\n",
      "Name: proportion, dtype: float64\n",
      "finding\n",
      "COVID-19     0.781671\n",
      "Pneumonia    0.127583\n",
      "Normal       0.090746\n",
      "Name: proportion, dtype: float64\n"
     ]
    }
   ],
   "source": [
    "# Distribution of class labels in validation data\n",
    "for i in range(0, len(folds)):\n",
    "    print(folds[i][1]['finding'].value_counts(normalize=True))"
   ]
  },
  {
   "cell_type": "code",
   "execution_count": 25,
   "id": "2f0c4422-c323-4832-8e79-a5ffc3b2951f",
   "metadata": {},
   "outputs": [
    {
     "name": "stdout",
     "output_type": "stream",
     "text": [
      "0       True\n",
      "1       True\n",
      "2       True\n",
      "3       True\n",
      "4       True\n",
      "        ... \n",
      "1108    True\n",
      "1109    True\n",
      "1110    True\n",
      "1111    True\n",
      "1112    True\n",
      "Name: patient id, Length: 1113, dtype: bool\n",
      "0       False\n",
      "1       False\n",
      "2       False\n",
      "3       False\n",
      "4       False\n",
      "        ...  \n",
      "1108    False\n",
      "1109    False\n",
      "1110    False\n",
      "1111    False\n",
      "1112    False\n",
      "Name: patient id, Length: 1113, dtype: bool\n",
      "0       False\n",
      "1       False\n",
      "2       False\n",
      "3       False\n",
      "4       False\n",
      "        ...  \n",
      "1108    False\n",
      "1109    False\n",
      "1110    False\n",
      "1111    False\n",
      "1112    False\n",
      "Name: patient id, Length: 1113, dtype: bool\n",
      "0       False\n",
      "1       False\n",
      "2       False\n",
      "3       False\n",
      "4       False\n",
      "        ...  \n",
      "1108    False\n",
      "1109    False\n",
      "1110    False\n",
      "1111    False\n",
      "1112    False\n",
      "Name: patient id, Length: 1113, dtype: bool\n",
      "0       False\n",
      "1       False\n",
      "2       False\n",
      "3       False\n",
      "4       False\n",
      "        ...  \n",
      "1108    False\n",
      "1109    False\n",
      "1110    False\n",
      "1111    False\n",
      "1112    False\n",
      "Name: patient id, Length: 1113, dtype: bool\n"
     ]
    }
   ],
   "source": [
    "for i in range(0, len(folds)):\n",
    "    print(folds[0][1]['patient id'].reset_index(drop=True) == folds[i][1]['patient id'].reset_index(drop=True))"
   ]
  },
  {
   "cell_type": "code",
   "execution_count": 27,
   "id": "cf48941c-eeba-4ed7-ac14-0b5aae4d4e09",
   "metadata": {},
   "outputs": [],
   "source": [
    "from sklearn.model_selection import KFold"
   ]
  },
  {
   "cell_type": "code",
   "execution_count": 29,
   "id": "0f724cc4-2fbf-43e0-99ef-03b2e52e9d11",
   "metadata": {},
   "outputs": [],
   "source": [
    "kf = KFold(n_splits=number_of_folds, shuffle=True, random_state=11)"
   ]
  },
  {
   "cell_type": "code",
   "execution_count": 31,
   "id": "65077ae2-a81a-4a27-9584-0400a69293e3",
   "metadata": {},
   "outputs": [],
   "source": [
    "folds = []"
   ]
  },
  {
   "cell_type": "code",
   "execution_count": 33,
   "id": "d62e823f-137d-4a88-a58f-7eff502a69ec",
   "metadata": {},
   "outputs": [],
   "source": [
    "for i, (train_index, val_index) in enumerate(kf.split(data_to_split)):\n",
    "    split = []\n",
    "    split.append(data_to_split.iloc[train_index])\n",
    "    split.append(data_to_split.iloc[val_index])\n",
    "    folds.append(split)"
   ]
  },
  {
   "cell_type": "code",
   "execution_count": 35,
   "id": "8f697bbc-27bf-4a63-809a-bfda7b36e054",
   "metadata": {},
   "outputs": [
    {
     "name": "stdout",
     "output_type": "stream",
     "text": [
      "Training set length: 4452\n",
      "Validation set length: 1113\n",
      "Total dataset length: 5565\n",
      "\n",
      "\n",
      "Training set length: 4452\n",
      "Validation set length: 1113\n",
      "Total dataset length: 5565\n",
      "\n",
      "\n",
      "Training set length: 4452\n",
      "Validation set length: 1113\n",
      "Total dataset length: 5565\n",
      "\n",
      "\n",
      "Training set length: 4452\n",
      "Validation set length: 1113\n",
      "Total dataset length: 5565\n",
      "\n",
      "\n",
      "Training set length: 4452\n",
      "Validation set length: 1113\n",
      "Total dataset length: 5565\n",
      "\n",
      "\n"
     ]
    }
   ],
   "source": [
    "for i in range(0, len(folds)):\n",
    "    print(\"Training set length: \" + str(len(folds[i][0])))\n",
    "    print(\"Validation set length: \" + str(len(folds[i][1])))\n",
    "    print(\"Total dataset length: \" + str(len(folds[i][0]) + len(folds[i][1])))\n",
    "    print(\"\\n\")"
   ]
  },
  {
   "cell_type": "code",
   "execution_count": 47,
   "id": "5c814aa5-0c43-4d34-84a8-263038afd15a",
   "metadata": {},
   "outputs": [
    {
     "name": "stdout",
     "output_type": "stream",
     "text": [
      "finding\n",
      "COVID-19     0.772237\n",
      "Pneumonia    0.140836\n",
      "Normal       0.086927\n",
      "Name: proportion, dtype: float64\n",
      "finding\n",
      "COVID-19     0.772013\n",
      "Pneumonia    0.140162\n",
      "Normal       0.087826\n",
      "Name: proportion, dtype: float64\n",
      "finding\n",
      "COVID-19     0.766622\n",
      "Pneumonia    0.148248\n",
      "Normal       0.085130\n",
      "Name: proportion, dtype: float64\n",
      "finding\n",
      "COVID-19     0.769766\n",
      "Pneumonia    0.142183\n",
      "Normal       0.088050\n",
      "Name: proportion, dtype: float64\n",
      "finding\n",
      "COVID-19     0.770216\n",
      "Pneumonia    0.141959\n",
      "Normal       0.087826\n",
      "Name: proportion, dtype: float64\n"
     ]
    }
   ],
   "source": [
    "# Distribution of class labels in training data\n",
    "for i in range(0, len(folds)):\n",
    "    print(folds[i][0]['finding'].value_counts(normalize=True))"
   ]
  },
  {
   "cell_type": "code",
   "execution_count": 49,
   "id": "9e2d5b7f-b9a7-45cc-aee3-7195ba5c7983",
   "metadata": {},
   "outputs": [
    {
     "name": "stdout",
     "output_type": "stream",
     "text": [
      "finding\n",
      "COVID-19     0.761905\n",
      "Pneumonia    0.150045\n",
      "Normal       0.088050\n",
      "Name: proportion, dtype: float64\n",
      "finding\n",
      "COVID-19     0.762803\n",
      "Pneumonia    0.152740\n",
      "Normal       0.084456\n",
      "Name: proportion, dtype: float64\n",
      "finding\n",
      "COVID-19     0.784367\n",
      "Pneumonia    0.120395\n",
      "Normal       0.095238\n",
      "Name: proportion, dtype: float64\n",
      "finding\n",
      "COVID-19     0.771788\n",
      "Pneumonia    0.144654\n",
      "Normal       0.083558\n",
      "Name: proportion, dtype: float64\n",
      "finding\n",
      "COVID-19     0.769991\n",
      "Pneumonia    0.145553\n",
      "Normal       0.084456\n",
      "Name: proportion, dtype: float64\n"
     ]
    }
   ],
   "source": [
    "# Distribution of class labels in validation data\n",
    "for i in range(0, len(folds)):\n",
    "    print(folds[i][1]['finding'].value_counts(normalize=True))"
   ]
  },
  {
   "cell_type": "code",
   "execution_count": 41,
   "id": "fdb30426-6e94-4785-af19-0752ca348791",
   "metadata": {},
   "outputs": [],
   "source": [
    "from pandas.testing import assert_frame_equal"
   ]
  },
  {
   "cell_type": "code",
   "execution_count": 43,
   "id": "41c772fa-3931-4874-b371-37b6041311b6",
   "metadata": {},
   "outputs": [
    {
     "name": "stdout",
     "output_type": "stream",
     "text": [
      "0       True\n",
      "1       True\n",
      "2       True\n",
      "3       True\n",
      "4       True\n",
      "        ... \n",
      "1108    True\n",
      "1109    True\n",
      "1110    True\n",
      "1111    True\n",
      "1112    True\n",
      "Name: patient id, Length: 1113, dtype: bool\n",
      "0       False\n",
      "1       False\n",
      "2       False\n",
      "3       False\n",
      "4       False\n",
      "        ...  \n",
      "1108    False\n",
      "1109    False\n",
      "1110    False\n",
      "1111    False\n",
      "1112    False\n",
      "Name: patient id, Length: 1113, dtype: bool\n",
      "0       False\n",
      "1       False\n",
      "2       False\n",
      "3       False\n",
      "4       False\n",
      "        ...  \n",
      "1108    False\n",
      "1109    False\n",
      "1110    False\n",
      "1111    False\n",
      "1112    False\n",
      "Name: patient id, Length: 1113, dtype: bool\n",
      "0       False\n",
      "1       False\n",
      "2       False\n",
      "3       False\n",
      "4       False\n",
      "        ...  \n",
      "1108    False\n",
      "1109    False\n",
      "1110    False\n",
      "1111    False\n",
      "1112    False\n",
      "Name: patient id, Length: 1113, dtype: bool\n",
      "0       False\n",
      "1       False\n",
      "2       False\n",
      "3       False\n",
      "4       False\n",
      "        ...  \n",
      "1108    False\n",
      "1109    False\n",
      "1110    False\n",
      "1111    False\n",
      "1112    False\n",
      "Name: patient id, Length: 1113, dtype: bool\n"
     ]
    }
   ],
   "source": [
    "for i in range(0, len(folds)):\n",
    "    print(folds[0][1]['patient id'].reset_index(drop=True) == folds[i][1]['patient id'].reset_index(drop=True))"
   ]
  },
  {
   "cell_type": "code",
   "execution_count": null,
   "id": "5fa550c6-b616-41a8-9b94-bfc47a2347af",
   "metadata": {},
   "outputs": [],
   "source": [
    "# Assembling the Arrays for the CNN"
   ]
  },
  {
   "cell_type": "code",
   "execution_count": 280,
   "id": "c83b3ea5-c0cd-434e-bda2-c90fc4a7a91c",
   "metadata": {},
   "outputs": [],
   "source": [
    "images = pd.read_csv('txt/train_val_COVIDx_CT-3A.csv', sep=' ',header=0)"
   ]
  },
  {
   "cell_type": "code",
   "execution_count": 152,
   "id": "9840f84b-46d4-4d2a-899d-f029fdf21d4a",
   "metadata": {},
   "outputs": [
    {
     "data": {
      "text/html": [
       "<div>\n",
       "<style scoped>\n",
       "    .dataframe tbody tr th:only-of-type {\n",
       "        vertical-align: middle;\n",
       "    }\n",
       "\n",
       "    .dataframe tbody tr th {\n",
       "        vertical-align: top;\n",
       "    }\n",
       "\n",
       "    .dataframe thead th {\n",
       "        text-align: right;\n",
       "    }\n",
       "</style>\n",
       "<table border=\"1\" class=\"dataframe\">\n",
       "  <thead>\n",
       "    <tr style=\"text-align: right;\">\n",
       "      <th></th>\n",
       "      <th>fname</th>\n",
       "      <th>cls</th>\n",
       "      <th>xmin</th>\n",
       "      <th>ymin</th>\n",
       "      <th>xmax</th>\n",
       "      <th>ymax</th>\n",
       "    </tr>\n",
       "  </thead>\n",
       "  <tbody>\n",
       "    <tr>\n",
       "      <th>0</th>\n",
       "      <td>NCP_96_1328_0032.png</td>\n",
       "      <td>2</td>\n",
       "      <td>9</td>\n",
       "      <td>94</td>\n",
       "      <td>512</td>\n",
       "      <td>405</td>\n",
       "    </tr>\n",
       "    <tr>\n",
       "      <th>1</th>\n",
       "      <td>NCP_96_1328_0035.png</td>\n",
       "      <td>2</td>\n",
       "      <td>10</td>\n",
       "      <td>106</td>\n",
       "      <td>512</td>\n",
       "      <td>405</td>\n",
       "    </tr>\n",
       "    <tr>\n",
       "      <th>2</th>\n",
       "      <td>NCP_96_1328_0036.png</td>\n",
       "      <td>2</td>\n",
       "      <td>10</td>\n",
       "      <td>105</td>\n",
       "      <td>512</td>\n",
       "      <td>406</td>\n",
       "    </tr>\n",
       "    <tr>\n",
       "      <th>3</th>\n",
       "      <td>NCP_96_1328_0037.png</td>\n",
       "      <td>2</td>\n",
       "      <td>11</td>\n",
       "      <td>104</td>\n",
       "      <td>512</td>\n",
       "      <td>406</td>\n",
       "    </tr>\n",
       "    <tr>\n",
       "      <th>4</th>\n",
       "      <td>NCP_96_1328_0038.png</td>\n",
       "      <td>2</td>\n",
       "      <td>11</td>\n",
       "      <td>103</td>\n",
       "      <td>512</td>\n",
       "      <td>406</td>\n",
       "    </tr>\n",
       "    <tr>\n",
       "      <th>...</th>\n",
       "      <td>...</td>\n",
       "      <td>...</td>\n",
       "      <td>...</td>\n",
       "      <td>...</td>\n",
       "      <td>...</td>\n",
       "      <td>...</td>\n",
       "    </tr>\n",
       "    <tr>\n",
       "      <th>391238</th>\n",
       "      <td>COVIDCTMD-normal076-IM0167.png</td>\n",
       "      <td>0</td>\n",
       "      <td>31</td>\n",
       "      <td>80</td>\n",
       "      <td>469</td>\n",
       "      <td>424</td>\n",
       "    </tr>\n",
       "    <tr>\n",
       "      <th>391239</th>\n",
       "      <td>COVIDCTMD-normal076-IM0168.png</td>\n",
       "      <td>0</td>\n",
       "      <td>31</td>\n",
       "      <td>80</td>\n",
       "      <td>469</td>\n",
       "      <td>424</td>\n",
       "    </tr>\n",
       "    <tr>\n",
       "      <th>391240</th>\n",
       "      <td>COVIDCTMD-normal076-IM0169.png</td>\n",
       "      <td>0</td>\n",
       "      <td>31</td>\n",
       "      <td>80</td>\n",
       "      <td>469</td>\n",
       "      <td>423</td>\n",
       "    </tr>\n",
       "    <tr>\n",
       "      <th>391241</th>\n",
       "      <td>COVIDCTMD-normal076-IM0170.png</td>\n",
       "      <td>0</td>\n",
       "      <td>31</td>\n",
       "      <td>80</td>\n",
       "      <td>469</td>\n",
       "      <td>423</td>\n",
       "    </tr>\n",
       "    <tr>\n",
       "      <th>391242</th>\n",
       "      <td>COVIDCTMD-normal076-IM0171.png</td>\n",
       "      <td>0</td>\n",
       "      <td>31</td>\n",
       "      <td>81</td>\n",
       "      <td>469</td>\n",
       "      <td>423</td>\n",
       "    </tr>\n",
       "  </tbody>\n",
       "</table>\n",
       "<p>391243 rows × 6 columns</p>\n",
       "</div>"
      ],
      "text/plain": [
       "                                 fname  cls  xmin  ymin  xmax  ymax\n",
       "0                 NCP_96_1328_0032.png    2     9    94   512   405\n",
       "1                 NCP_96_1328_0035.png    2    10   106   512   405\n",
       "2                 NCP_96_1328_0036.png    2    10   105   512   406\n",
       "3                 NCP_96_1328_0037.png    2    11   104   512   406\n",
       "4                 NCP_96_1328_0038.png    2    11   103   512   406\n",
       "...                                ...  ...   ...   ...   ...   ...\n",
       "391238  COVIDCTMD-normal076-IM0167.png    0    31    80   469   424\n",
       "391239  COVIDCTMD-normal076-IM0168.png    0    31    80   469   424\n",
       "391240  COVIDCTMD-normal076-IM0169.png    0    31    80   469   423\n",
       "391241  COVIDCTMD-normal076-IM0170.png    0    31    80   469   423\n",
       "391242  COVIDCTMD-normal076-IM0171.png    0    31    81   469   423\n",
       "\n",
       "[391243 rows x 6 columns]"
      ]
     },
     "execution_count": 152,
     "metadata": {},
     "output_type": "execute_result"
    }
   ],
   "source": [
    "images"
   ]
  },
  {
   "cell_type": "code",
   "execution_count": 232,
   "id": "af6eb3f9-a4ef-44f7-9bc8-a8bfbfec49eb",
   "metadata": {},
   "outputs": [
    {
     "data": {
      "text/plain": [
       "0                   NCP_96_1328_0032.png\n",
       "1                   NCP_96_1328_0035.png\n",
       "2                   NCP_96_1328_0036.png\n",
       "3                   NCP_96_1328_0037.png\n",
       "4                   NCP_96_1328_0038.png\n",
       "                       ...              \n",
       "391238    COVIDCTMD-normal076-IM0167.png\n",
       "391239    COVIDCTMD-normal076-IM0168.png\n",
       "391240    COVIDCTMD-normal076-IM0169.png\n",
       "391241    COVIDCTMD-normal076-IM0170.png\n",
       "391242    COVIDCTMD-normal076-IM0171.png\n",
       "Name: fname, Length: 391243, dtype: object"
      ]
     },
     "execution_count": 232,
     "metadata": {},
     "output_type": "execute_result"
    }
   ],
   "source": [
    "images['fname']"
   ]
  },
  {
   "cell_type": "code",
   "execution_count": 244,
   "id": "8fe525df-4c40-44e7-ac6c-e123442a4bb7",
   "metadata": {},
   "outputs": [
    {
     "data": {
      "text/plain": [
       "'CP_10'"
      ]
     },
     "execution_count": 244,
     "metadata": {},
     "output_type": "execute_result"
    }
   ],
   "source": [
    "folds[0][0]['patient id'][0]"
   ]
  },
  {
   "cell_type": "code",
   "execution_count": 278,
   "id": "63fe637d-3e05-4621-b3cf-b281c5ef7c75",
   "metadata": {},
   "outputs": [
    {
     "data": {
      "text/html": [
       "<div>\n",
       "<style scoped>\n",
       "    .dataframe tbody tr th:only-of-type {\n",
       "        vertical-align: middle;\n",
       "    }\n",
       "\n",
       "    .dataframe tbody tr th {\n",
       "        vertical-align: top;\n",
       "    }\n",
       "\n",
       "    .dataframe thead th {\n",
       "        text-align: right;\n",
       "    }\n",
       "</style>\n",
       "<table border=\"1\" class=\"dataframe\">\n",
       "  <thead>\n",
       "    <tr style=\"text-align: right;\">\n",
       "      <th></th>\n",
       "      <th>patient id</th>\n",
       "      <th>source</th>\n",
       "      <th>country</th>\n",
       "      <th>sex</th>\n",
       "      <th>age</th>\n",
       "      <th>finding</th>\n",
       "      <th>verified finding</th>\n",
       "      <th>slice selection</th>\n",
       "      <th>view</th>\n",
       "      <th>modality</th>\n",
       "    </tr>\n",
       "  </thead>\n",
       "  <tbody>\n",
       "    <tr>\n",
       "      <th>0</th>\n",
       "      <td>CP_10</td>\n",
       "      <td>CNCB</td>\n",
       "      <td>China</td>\n",
       "      <td>NaN</td>\n",
       "      <td>NaN</td>\n",
       "      <td>Pneumonia</td>\n",
       "      <td>Yes</td>\n",
       "      <td>Automatic</td>\n",
       "      <td>Axial</td>\n",
       "      <td>CT</td>\n",
       "    </tr>\n",
       "    <tr>\n",
       "      <th>2</th>\n",
       "      <td>CP_1071</td>\n",
       "      <td>CNCB</td>\n",
       "      <td>China</td>\n",
       "      <td>NaN</td>\n",
       "      <td>NaN</td>\n",
       "      <td>Pneumonia</td>\n",
       "      <td>Yes</td>\n",
       "      <td>Expert</td>\n",
       "      <td>Axial</td>\n",
       "      <td>CT</td>\n",
       "    </tr>\n",
       "    <tr>\n",
       "      <th>3</th>\n",
       "      <td>CP_1072</td>\n",
       "      <td>CNCB</td>\n",
       "      <td>China</td>\n",
       "      <td>NaN</td>\n",
       "      <td>NaN</td>\n",
       "      <td>Pneumonia</td>\n",
       "      <td>Yes</td>\n",
       "      <td>Expert</td>\n",
       "      <td>Axial</td>\n",
       "      <td>CT</td>\n",
       "    </tr>\n",
       "    <tr>\n",
       "      <th>4</th>\n",
       "      <td>CP_1073</td>\n",
       "      <td>CNCB</td>\n",
       "      <td>China</td>\n",
       "      <td>NaN</td>\n",
       "      <td>NaN</td>\n",
       "      <td>Pneumonia</td>\n",
       "      <td>Yes</td>\n",
       "      <td>Expert</td>\n",
       "      <td>Axial</td>\n",
       "      <td>CT</td>\n",
       "    </tr>\n",
       "    <tr>\n",
       "      <th>6</th>\n",
       "      <td>CP_1076</td>\n",
       "      <td>CNCB</td>\n",
       "      <td>China</td>\n",
       "      <td>NaN</td>\n",
       "      <td>NaN</td>\n",
       "      <td>Pneumonia</td>\n",
       "      <td>Yes</td>\n",
       "      <td>Expert</td>\n",
       "      <td>Axial</td>\n",
       "      <td>CT</td>\n",
       "    </tr>\n",
       "    <tr>\n",
       "      <th>...</th>\n",
       "      <td>...</td>\n",
       "      <td>...</td>\n",
       "      <td>...</td>\n",
       "      <td>...</td>\n",
       "      <td>...</td>\n",
       "      <td>...</td>\n",
       "      <td>...</td>\n",
       "      <td>...</td>\n",
       "      <td>...</td>\n",
       "      <td>...</td>\n",
       "    </tr>\n",
       "    <tr>\n",
       "      <th>5560</th>\n",
       "      <td>COVIDCTMD-normal071</td>\n",
       "      <td>COVID-CT-MD</td>\n",
       "      <td>Iran</td>\n",
       "      <td>F</td>\n",
       "      <td>43.0</td>\n",
       "      <td>Normal</td>\n",
       "      <td>Yes</td>\n",
       "      <td>NaN</td>\n",
       "      <td>Axial</td>\n",
       "      <td>CT</td>\n",
       "    </tr>\n",
       "    <tr>\n",
       "      <th>5561</th>\n",
       "      <td>COVIDCTMD-normal072</td>\n",
       "      <td>COVID-CT-MD</td>\n",
       "      <td>Iran</td>\n",
       "      <td>M</td>\n",
       "      <td>31.0</td>\n",
       "      <td>Normal</td>\n",
       "      <td>Yes</td>\n",
       "      <td>NaN</td>\n",
       "      <td>Axial</td>\n",
       "      <td>CT</td>\n",
       "    </tr>\n",
       "    <tr>\n",
       "      <th>5562</th>\n",
       "      <td>COVIDCTMD-normal073</td>\n",
       "      <td>COVID-CT-MD</td>\n",
       "      <td>Iran</td>\n",
       "      <td>M</td>\n",
       "      <td>39.0</td>\n",
       "      <td>Normal</td>\n",
       "      <td>Yes</td>\n",
       "      <td>NaN</td>\n",
       "      <td>Axial</td>\n",
       "      <td>CT</td>\n",
       "    </tr>\n",
       "    <tr>\n",
       "      <th>5563</th>\n",
       "      <td>COVIDCTMD-normal074</td>\n",
       "      <td>COVID-CT-MD</td>\n",
       "      <td>Iran</td>\n",
       "      <td>M</td>\n",
       "      <td>40.0</td>\n",
       "      <td>Normal</td>\n",
       "      <td>Yes</td>\n",
       "      <td>NaN</td>\n",
       "      <td>Axial</td>\n",
       "      <td>CT</td>\n",
       "    </tr>\n",
       "    <tr>\n",
       "      <th>5564</th>\n",
       "      <td>COVIDCTMD-normal076</td>\n",
       "      <td>COVID-CT-MD</td>\n",
       "      <td>Iran</td>\n",
       "      <td>M</td>\n",
       "      <td>30.0</td>\n",
       "      <td>Normal</td>\n",
       "      <td>Yes</td>\n",
       "      <td>NaN</td>\n",
       "      <td>Axial</td>\n",
       "      <td>CT</td>\n",
       "    </tr>\n",
       "  </tbody>\n",
       "</table>\n",
       "<p>4452 rows × 10 columns</p>\n",
       "</div>"
      ],
      "text/plain": [
       "               patient id       source country  sex   age    finding  \\\n",
       "0                   CP_10         CNCB   China  NaN   NaN  Pneumonia   \n",
       "2                 CP_1071         CNCB   China  NaN   NaN  Pneumonia   \n",
       "3                 CP_1072         CNCB   China  NaN   NaN  Pneumonia   \n",
       "4                 CP_1073         CNCB   China  NaN   NaN  Pneumonia   \n",
       "6                 CP_1076         CNCB   China  NaN   NaN  Pneumonia   \n",
       "...                   ...          ...     ...  ...   ...        ...   \n",
       "5560  COVIDCTMD-normal071  COVID-CT-MD    Iran    F  43.0     Normal   \n",
       "5561  COVIDCTMD-normal072  COVID-CT-MD    Iran    M  31.0     Normal   \n",
       "5562  COVIDCTMD-normal073  COVID-CT-MD    Iran    M  39.0     Normal   \n",
       "5563  COVIDCTMD-normal074  COVID-CT-MD    Iran    M  40.0     Normal   \n",
       "5564  COVIDCTMD-normal076  COVID-CT-MD    Iran    M  30.0     Normal   \n",
       "\n",
       "     verified finding slice selection   view modality  \n",
       "0                 Yes       Automatic  Axial       CT  \n",
       "2                 Yes          Expert  Axial       CT  \n",
       "3                 Yes          Expert  Axial       CT  \n",
       "4                 Yes          Expert  Axial       CT  \n",
       "6                 Yes          Expert  Axial       CT  \n",
       "...               ...             ...    ...      ...  \n",
       "5560              Yes             NaN  Axial       CT  \n",
       "5561              Yes             NaN  Axial       CT  \n",
       "5562              Yes             NaN  Axial       CT  \n",
       "5563              Yes             NaN  Axial       CT  \n",
       "5564              Yes             NaN  Axial       CT  \n",
       "\n",
       "[4452 rows x 10 columns]"
      ]
     },
     "execution_count": 278,
     "metadata": {},
     "output_type": "execute_result"
    }
   ],
   "source": [
    "folds[0][0]"
   ]
  },
  {
   "cell_type": "code",
   "execution_count": 340,
   "id": "752aaf4e-a106-48b5-ac89-2ae77b13728c",
   "metadata": {},
   "outputs": [
    {
     "ename": "TypeError",
     "evalue": "ndarray() missing required argument 'shape' (pos 1)",
     "output_type": "error",
     "traceback": [
      "\u001b[1;31m---------------------------------------------------------------------------\u001b[0m",
      "\u001b[1;31mTypeError\u001b[0m                                 Traceback (most recent call last)",
      "Cell \u001b[1;32mIn[340], line 1\u001b[0m\n\u001b[1;32m----> 1\u001b[0m patient_images \u001b[38;5;241m=\u001b[39m np\u001b[38;5;241m.\u001b[39mndarray()\n",
      "\u001b[1;31mTypeError\u001b[0m: ndarray() missing required argument 'shape' (pos 1)"
     ]
    }
   ],
   "source": [
    "patient_images = np.ndarray()"
   ]
  },
  {
   "cell_type": "code",
   "execution_count": 316,
   "id": "5836610a-b145-451d-be26-219ec75e200e",
   "metadata": {},
   "outputs": [
    {
     "data": {
      "text/plain": [
       "[]"
      ]
     },
     "execution_count": 316,
     "metadata": {},
     "output_type": "execute_result"
    }
   ],
   "source": [
    "patient_images"
   ]
  },
  {
   "cell_type": "code",
   "execution_count": 318,
   "id": "2146cbeb-a1f2-4aa6-9409-376380d813cc",
   "metadata": {},
   "outputs": [],
   "source": [
    "mask = images['fname'].str.startswith('CP_1071')\n",
    "patient_images.append(images[mask])"
   ]
  },
  {
   "cell_type": "code",
   "execution_count": 322,
   "id": "ed51dca9-b6d8-47c4-b0ae-d4178d051c03",
   "metadata": {},
   "outputs": [
    {
     "data": {
      "text/plain": [
       "[                       fname  cls  xmin  ymin  xmax  ymax\n",
       " 32877  CP_1071_3114_0035.png    1    33   117   501   451\n",
       " 32878  CP_1071_3114_0036.png    1    33   116   500   451\n",
       " 32879  CP_1071_3114_0037.png    1    34   115   499   451\n",
       " 32880  CP_1071_3114_0038.png    1    34   113   498   451\n",
       " 32881  CP_1071_3114_0039.png    1    34   113   496   451]"
      ]
     },
     "execution_count": 322,
     "metadata": {},
     "output_type": "execute_result"
    }
   ],
   "source": [
    "patient_images"
   ]
  },
  {
   "cell_type": "code",
   "execution_count": 336,
   "id": "4fb6063b-3333-4168-8316-1fb50b55d3e7",
   "metadata": {},
   "outputs": [],
   "source": [
    "folds[0][0].loc[folds[0][0]['patient id'] == 'CP_1071']['images'] = patient_images"
   ]
  },
  {
   "cell_type": "code",
   "execution_count": 338,
   "id": "642224af-6466-4f50-9c77-2794ff47c5cc",
   "metadata": {},
   "outputs": [
    {
     "ename": "KeyError",
     "evalue": "'images'",
     "output_type": "error",
     "traceback": [
      "\u001b[1;31m---------------------------------------------------------------------------\u001b[0m",
      "\u001b[1;31mKeyError\u001b[0m                                  Traceback (most recent call last)",
      "File \u001b[1;32mC:\\ProgramData\\anaconda3\\Lib\\site-packages\\pandas\\core\\indexes\\base.py:3805\u001b[0m, in \u001b[0;36mIndex.get_loc\u001b[1;34m(self, key)\u001b[0m\n\u001b[0;32m   3804\u001b[0m \u001b[38;5;28;01mtry\u001b[39;00m:\n\u001b[1;32m-> 3805\u001b[0m     \u001b[38;5;28;01mreturn\u001b[39;00m \u001b[38;5;28mself\u001b[39m\u001b[38;5;241m.\u001b[39m_engine\u001b[38;5;241m.\u001b[39mget_loc(casted_key)\n\u001b[0;32m   3806\u001b[0m \u001b[38;5;28;01mexcept\u001b[39;00m \u001b[38;5;167;01mKeyError\u001b[39;00m \u001b[38;5;28;01mas\u001b[39;00m err:\n",
      "File \u001b[1;32mindex.pyx:167\u001b[0m, in \u001b[0;36mpandas._libs.index.IndexEngine.get_loc\u001b[1;34m()\u001b[0m\n",
      "File \u001b[1;32mindex.pyx:196\u001b[0m, in \u001b[0;36mpandas._libs.index.IndexEngine.get_loc\u001b[1;34m()\u001b[0m\n",
      "File \u001b[1;32mpandas\\\\_libs\\\\hashtable_class_helper.pxi:7081\u001b[0m, in \u001b[0;36mpandas._libs.hashtable.PyObjectHashTable.get_item\u001b[1;34m()\u001b[0m\n",
      "File \u001b[1;32mpandas\\\\_libs\\\\hashtable_class_helper.pxi:7089\u001b[0m, in \u001b[0;36mpandas._libs.hashtable.PyObjectHashTable.get_item\u001b[1;34m()\u001b[0m\n",
      "\u001b[1;31mKeyError\u001b[0m: 'images'",
      "\nThe above exception was the direct cause of the following exception:\n",
      "\u001b[1;31mKeyError\u001b[0m                                  Traceback (most recent call last)",
      "Cell \u001b[1;32mIn[338], line 1\u001b[0m\n\u001b[1;32m----> 1\u001b[0m folds[\u001b[38;5;241m0\u001b[39m][\u001b[38;5;241m0\u001b[39m]\u001b[38;5;241m.\u001b[39mloc[folds[\u001b[38;5;241m0\u001b[39m][\u001b[38;5;241m0\u001b[39m][\u001b[38;5;124m'\u001b[39m\u001b[38;5;124mpatient id\u001b[39m\u001b[38;5;124m'\u001b[39m] \u001b[38;5;241m==\u001b[39m \u001b[38;5;124m'\u001b[39m\u001b[38;5;124mCP_1071\u001b[39m\u001b[38;5;124m'\u001b[39m][\u001b[38;5;124m'\u001b[39m\u001b[38;5;124mimages\u001b[39m\u001b[38;5;124m'\u001b[39m]\n",
      "File \u001b[1;32mC:\\ProgramData\\anaconda3\\Lib\\site-packages\\pandas\\core\\frame.py:4102\u001b[0m, in \u001b[0;36mDataFrame.__getitem__\u001b[1;34m(self, key)\u001b[0m\n\u001b[0;32m   4100\u001b[0m \u001b[38;5;28;01mif\u001b[39;00m \u001b[38;5;28mself\u001b[39m\u001b[38;5;241m.\u001b[39mcolumns\u001b[38;5;241m.\u001b[39mnlevels \u001b[38;5;241m>\u001b[39m \u001b[38;5;241m1\u001b[39m:\n\u001b[0;32m   4101\u001b[0m     \u001b[38;5;28;01mreturn\u001b[39;00m \u001b[38;5;28mself\u001b[39m\u001b[38;5;241m.\u001b[39m_getitem_multilevel(key)\n\u001b[1;32m-> 4102\u001b[0m indexer \u001b[38;5;241m=\u001b[39m \u001b[38;5;28mself\u001b[39m\u001b[38;5;241m.\u001b[39mcolumns\u001b[38;5;241m.\u001b[39mget_loc(key)\n\u001b[0;32m   4103\u001b[0m \u001b[38;5;28;01mif\u001b[39;00m is_integer(indexer):\n\u001b[0;32m   4104\u001b[0m     indexer \u001b[38;5;241m=\u001b[39m [indexer]\n",
      "File \u001b[1;32mC:\\ProgramData\\anaconda3\\Lib\\site-packages\\pandas\\core\\indexes\\base.py:3812\u001b[0m, in \u001b[0;36mIndex.get_loc\u001b[1;34m(self, key)\u001b[0m\n\u001b[0;32m   3807\u001b[0m     \u001b[38;5;28;01mif\u001b[39;00m \u001b[38;5;28misinstance\u001b[39m(casted_key, \u001b[38;5;28mslice\u001b[39m) \u001b[38;5;129;01mor\u001b[39;00m (\n\u001b[0;32m   3808\u001b[0m         \u001b[38;5;28misinstance\u001b[39m(casted_key, abc\u001b[38;5;241m.\u001b[39mIterable)\n\u001b[0;32m   3809\u001b[0m         \u001b[38;5;129;01mand\u001b[39;00m \u001b[38;5;28many\u001b[39m(\u001b[38;5;28misinstance\u001b[39m(x, \u001b[38;5;28mslice\u001b[39m) \u001b[38;5;28;01mfor\u001b[39;00m x \u001b[38;5;129;01min\u001b[39;00m casted_key)\n\u001b[0;32m   3810\u001b[0m     ):\n\u001b[0;32m   3811\u001b[0m         \u001b[38;5;28;01mraise\u001b[39;00m InvalidIndexError(key)\n\u001b[1;32m-> 3812\u001b[0m     \u001b[38;5;28;01mraise\u001b[39;00m \u001b[38;5;167;01mKeyError\u001b[39;00m(key) \u001b[38;5;28;01mfrom\u001b[39;00m \u001b[38;5;21;01merr\u001b[39;00m\n\u001b[0;32m   3813\u001b[0m \u001b[38;5;28;01mexcept\u001b[39;00m \u001b[38;5;167;01mTypeError\u001b[39;00m:\n\u001b[0;32m   3814\u001b[0m     \u001b[38;5;66;03m# If we have a listlike key, _check_indexing_error will raise\u001b[39;00m\n\u001b[0;32m   3815\u001b[0m     \u001b[38;5;66;03m#  InvalidIndexError. Otherwise we fall through and re-raise\u001b[39;00m\n\u001b[0;32m   3816\u001b[0m     \u001b[38;5;66;03m#  the TypeError.\u001b[39;00m\n\u001b[0;32m   3817\u001b[0m     \u001b[38;5;28mself\u001b[39m\u001b[38;5;241m.\u001b[39m_check_indexing_error(key)\n",
      "\u001b[1;31mKeyError\u001b[0m: 'images'"
     ]
    }
   ],
   "source": [
    "folds[0][0].loc[folds[0][0]['patient id'] == 'CP_1071']['images']"
   ]
  },
  {
   "cell_type": "code",
   "execution_count": 138,
   "id": "e62b0d1e-a4c2-4fcc-88e1-4de18f02417c",
   "metadata": {},
   "outputs": [
    {
     "data": {
      "text/plain": [
       "0                     CP_10\n",
       "2                   CP_1071\n",
       "3                   CP_1072\n",
       "4                   CP_1073\n",
       "6                   CP_1076\n",
       "               ...         \n",
       "5560    COVIDCTMD-normal071\n",
       "5561    COVIDCTMD-normal072\n",
       "5562    COVIDCTMD-normal073\n",
       "5563    COVIDCTMD-normal074\n",
       "5564    COVIDCTMD-normal076\n",
       "Name: patient id, Length: 4452, dtype: object"
      ]
     },
     "execution_count": 138,
     "metadata": {},
     "output_type": "execute_result"
    }
   ],
   "source": [
    "folds[0][0]['patient id']"
   ]
  }
 ],
 "metadata": {
  "kernelspec": {
   "display_name": "Python [conda env:base] *",
   "language": "python",
   "name": "conda-base-py"
  },
  "language_info": {
   "codemirror_mode": {
    "name": "ipython",
    "version": 3
   },
   "file_extension": ".py",
   "mimetype": "text/x-python",
   "name": "python",
   "nbconvert_exporter": "python",
   "pygments_lexer": "ipython3",
   "version": "3.12.7"
  }
 },
 "nbformat": 4,
 "nbformat_minor": 5
}
