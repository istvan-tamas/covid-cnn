{
 "cells": [
  {
   "cell_type": "code",
   "execution_count": 22,
   "id": "8322f1d0-3a4a-4758-97fb-2732038d13f2",
   "metadata": {},
   "outputs": [],
   "source": [
    "import pandas as pd\n",
    "import numpy as np\n",
    "from sklearn.model_selection import train_test_split"
   ]
  },
  {
   "cell_type": "code",
   "execution_count": 24,
   "id": "fdb4bda9-42dc-416f-a414-63e57f9cbb12",
   "metadata": {},
   "outputs": [],
   "source": [
    "import warnings\n",
    "warnings.filterwarnings('ignore')"
   ]
  },
  {
   "cell_type": "code",
   "execution_count": 26,
   "id": "4e1c180d-391c-42de-bbae-8a6ba476bb6e",
   "metadata": {},
   "outputs": [],
   "source": [
    "data_to_split = pd.read_csv('train_val_metadata.csv')"
   ]
  },
  {
   "cell_type": "code",
   "execution_count": 28,
   "id": "a3f31224-0d97-47e5-9886-a1f469faf5de",
   "metadata": {},
   "outputs": [],
   "source": [
    "number_of_folds = 5\n",
    "folds = []"
   ]
  },
  {
   "cell_type": "code",
   "execution_count": 30,
   "id": "eace8e94-c8b6-4cda-9a7d-667cac3e4ab9",
   "metadata": {},
   "outputs": [
    {
     "data": {
      "text/plain": [
       "5565"
      ]
     },
     "execution_count": 30,
     "metadata": {},
     "output_type": "execute_result"
    }
   ],
   "source": [
    "len(data_to_split)"
   ]
  },
  {
   "cell_type": "code",
   "execution_count": 32,
   "id": "74095554-ba10-4f4f-87ff-2bf74f1f00c5",
   "metadata": {},
   "outputs": [
    {
     "data": {
      "text/plain": [
       "['patient id',\n",
       " 'source',\n",
       " 'country',\n",
       " 'sex',\n",
       " 'age',\n",
       " 'finding',\n",
       " 'verified finding',\n",
       " 'slice selection',\n",
       " 'view',\n",
       " 'modality']"
      ]
     },
     "execution_count": 32,
     "metadata": {},
     "output_type": "execute_result"
    }
   ],
   "source": [
    "data_to_split.columns.values.tolist()"
   ]
  },
  {
   "cell_type": "code",
   "execution_count": 34,
   "id": "6d76e2b4-dadc-4d5f-9233-10240b102209",
   "metadata": {},
   "outputs": [],
   "source": [
    "already_sampled = pd.DataFrame(columns=data_to_split.columns.values.tolist())\n",
    "\n",
    "for i in range(0,number_of_folds):\n",
    "    \n",
    "    training_set = pd.DataFrame(columns=data_to_split.columns.values.tolist())\n",
    "    val_set = pd.DataFrame(columns=data_to_split.columns.values.tolist())\n",
    "\n",
    "    training_set = data_to_split\n",
    "\n",
    "    i = 0\n",
    "    \n",
    "    while(i < int(len(data_to_split)/number_of_folds)):\n",
    "        sample = training_set.sample(n=1)\n",
    "        if sample['patient id'].isin(already_sampled['patient id']).values[0]:\n",
    "            continue\n",
    "        else:\n",
    "            val_set = pd.concat([val_set,sample])\n",
    "            already_sampled = pd.concat([already_sampled,sample])\n",
    "            #cond = training_set['patient id'].isin(sample['patient id'])\n",
    "            #training_set.drop(training_set[cond].index, inplace = True)\n",
    "            training_set = training_set.drop(sample.index, inplace=False)\n",
    "            i = i + 1\n",
    "            \n",
    "    temp = []\n",
    "    temp.append(training_set)\n",
    "    temp.append(val_set)\n",
    "    folds.append(temp)"
   ]
  },
  {
   "cell_type": "code",
   "execution_count": 38,
   "id": "47bd43ed-e392-4212-bfcc-f75642f04007",
   "metadata": {},
   "outputs": [
    {
     "data": {
      "text/plain": [
       "5565"
      ]
     },
     "execution_count": 38,
     "metadata": {},
     "output_type": "execute_result"
    }
   ],
   "source": [
    "len(already_sampled)"
   ]
  },
  {
   "cell_type": "code",
   "execution_count": 84,
   "id": "c5c0f1f6-d620-4118-b34c-e59cb14b806b",
   "metadata": {},
   "outputs": [
    {
     "name": "stdout",
     "output_type": "stream",
     "text": [
      "Training set length: 4452\n",
      "Validation set length: 1113\n",
      "Total dataset length: 5565\n",
      "\n",
      "\n",
      "Training set length: 4452\n",
      "Validation set length: 1113\n",
      "Total dataset length: 5565\n",
      "\n",
      "\n",
      "Training set length: 4452\n",
      "Validation set length: 1113\n",
      "Total dataset length: 5565\n",
      "\n",
      "\n",
      "Training set length: 4452\n",
      "Validation set length: 1113\n",
      "Total dataset length: 5565\n",
      "\n",
      "\n",
      "Training set length: 4452\n",
      "Validation set length: 1113\n",
      "Total dataset length: 5565\n",
      "\n",
      "\n"
     ]
    }
   ],
   "source": [
    "for i in range(0, len(folds)):\n",
    "    print(\"Training set length: \" + str(len(folds[i][0])))\n",
    "    print(\"Validation set length: \" + str(len(folds[i][1])))\n",
    "    print(\"Total dataset length: \" + str(len(folds[i][0]) + len(folds[i][1])))\n",
    "    print(\"\\n\")"
   ]
  },
  {
   "cell_type": "code",
   "execution_count": 92,
   "id": "996c4e48-0faf-41b9-b07f-6d3ce1d6ef97",
   "metadata": {},
   "outputs": [
    {
     "name": "stdout",
     "output_type": "stream",
     "text": [
      "finding\n",
      "COVID-19     0.770889\n",
      "Pneumonia    0.141509\n",
      "Normal       0.087601\n",
      "Name: proportion, dtype: float64\n",
      "finding\n",
      "COVID-19     0.770440\n",
      "Pneumonia    0.142633\n",
      "Normal       0.086927\n",
      "Name: proportion, dtype: float64\n",
      "finding\n",
      "COVID-19     0.773136\n",
      "Pneumonia    0.140611\n",
      "Normal       0.086253\n",
      "Name: proportion, dtype: float64\n",
      "finding\n",
      "COVID-19     0.771563\n",
      "Pneumonia    0.139937\n",
      "Normal       0.088500\n",
      "Name: proportion, dtype: float64\n",
      "finding\n",
      "COVID-19     0.764825\n",
      "Pneumonia    0.148697\n",
      "Normal       0.086478\n",
      "Name: proportion, dtype: float64\n"
     ]
    }
   ],
   "source": [
    "# Distribution of class labels in training data\n",
    "for i in range(0, len(folds)):\n",
    "    print(folds[i][0]['finding'].value_counts(normalize=True))"
   ]
  },
  {
   "cell_type": "code",
   "execution_count": 94,
   "id": "295c59fb-a9a4-4737-b414-c82b6b8a8ca8",
   "metadata": {},
   "outputs": [
    {
     "name": "stdout",
     "output_type": "stream",
     "text": [
      "finding\n",
      "COVID-19     0.767296\n",
      "Pneumonia    0.147350\n",
      "Normal       0.085355\n",
      "Name: proportion, dtype: float64\n",
      "finding\n",
      "COVID-19     0.769093\n",
      "Pneumonia    0.142857\n",
      "Normal       0.088050\n",
      "Name: proportion, dtype: float64\n",
      "finding\n",
      "COVID-19     0.758311\n",
      "Pneumonia    0.150943\n",
      "Normal       0.090746\n",
      "Name: proportion, dtype: float64\n",
      "finding\n",
      "COVID-19     0.764600\n",
      "Pneumonia    0.153639\n",
      "Normal       0.081761\n",
      "Name: proportion, dtype: float64\n",
      "finding\n",
      "COVID-19     0.791554\n",
      "Pneumonia    0.118598\n",
      "Normal       0.089847\n",
      "Name: proportion, dtype: float64\n"
     ]
    }
   ],
   "source": [
    "# Distribution of class labels in validation data\n",
    "for i in range(0, len(folds)):\n",
    "    print(folds[i][1]['finding'].value_counts(normalize=True))"
   ]
  },
  {
   "cell_type": "code",
   "execution_count": 110,
   "id": "2f0c4422-c323-4832-8e79-a5ffc3b2951f",
   "metadata": {},
   "outputs": [
    {
     "name": "stdout",
     "output_type": "stream",
     "text": [
      "0       True\n",
      "1       True\n",
      "2       True\n",
      "3       True\n",
      "4       True\n",
      "        ... \n",
      "1108    True\n",
      "1109    True\n",
      "1110    True\n",
      "1111    True\n",
      "1112    True\n",
      "Name: patient id, Length: 1113, dtype: bool\n",
      "0       False\n",
      "1       False\n",
      "2       False\n",
      "3       False\n",
      "4       False\n",
      "        ...  \n",
      "1108    False\n",
      "1109    False\n",
      "1110    False\n",
      "1111    False\n",
      "1112    False\n",
      "Name: patient id, Length: 1113, dtype: bool\n",
      "0       False\n",
      "1       False\n",
      "2       False\n",
      "3       False\n",
      "4       False\n",
      "        ...  \n",
      "1108    False\n",
      "1109    False\n",
      "1110    False\n",
      "1111    False\n",
      "1112    False\n",
      "Name: patient id, Length: 1113, dtype: bool\n",
      "0       False\n",
      "1       False\n",
      "2       False\n",
      "3       False\n",
      "4       False\n",
      "        ...  \n",
      "1108    False\n",
      "1109    False\n",
      "1110    False\n",
      "1111    False\n",
      "1112    False\n",
      "Name: patient id, Length: 1113, dtype: bool\n",
      "0       False\n",
      "1       False\n",
      "2       False\n",
      "3       False\n",
      "4       False\n",
      "        ...  \n",
      "1108    False\n",
      "1109    False\n",
      "1110    False\n",
      "1111    False\n",
      "1112    False\n",
      "Name: patient id, Length: 1113, dtype: bool\n"
     ]
    }
   ],
   "source": [
    "for i in range(0, len(folds)):\n",
    "    print(folds[0][1]['patient id'].reset_index(drop=True) == folds[i][1]['patient id'].reset_index(drop=True))"
   ]
  },
  {
   "cell_type": "code",
   "execution_count": 112,
   "id": "cf48941c-eeba-4ed7-ac14-0b5aae4d4e09",
   "metadata": {},
   "outputs": [],
   "source": [
    "from sklearn.model_selection import KFold"
   ]
  },
  {
   "cell_type": "code",
   "execution_count": 114,
   "id": "0f724cc4-2fbf-43e0-99ef-03b2e52e9d11",
   "metadata": {},
   "outputs": [],
   "source": [
    "kf = KFold(n_splits=number_of_folds, shuffle=True, random_state=11)"
   ]
  },
  {
   "cell_type": "code",
   "execution_count": 116,
   "id": "65077ae2-a81a-4a27-9584-0400a69293e3",
   "metadata": {},
   "outputs": [],
   "source": [
    "folds = []"
   ]
  },
  {
   "cell_type": "code",
   "execution_count": 118,
   "id": "d62e823f-137d-4a88-a58f-7eff502a69ec",
   "metadata": {},
   "outputs": [],
   "source": [
    "for i, (train_index, val_index) in enumerate(kf.split(data_to_split)):\n",
    "    split = []\n",
    "    split.append(data_to_split.iloc[train_index])\n",
    "    split.append(data_to_split.iloc[val_index])\n",
    "    folds.append(split)"
   ]
  },
  {
   "cell_type": "code",
   "execution_count": 130,
   "id": "8f697bbc-27bf-4a63-809a-bfda7b36e054",
   "metadata": {},
   "outputs": [
    {
     "name": "stdout",
     "output_type": "stream",
     "text": [
      "Training set length: 4452\n",
      "Validation set length: 1113\n",
      "Total dataset length: 5565\n",
      "\n",
      "\n",
      "Training set length: 4452\n",
      "Validation set length: 1113\n",
      "Total dataset length: 5565\n",
      "\n",
      "\n",
      "Training set length: 4452\n",
      "Validation set length: 1113\n",
      "Total dataset length: 5565\n",
      "\n",
      "\n",
      "Training set length: 4452\n",
      "Validation set length: 1113\n",
      "Total dataset length: 5565\n",
      "\n",
      "\n",
      "Training set length: 4452\n",
      "Validation set length: 1113\n",
      "Total dataset length: 5565\n",
      "\n",
      "\n"
     ]
    }
   ],
   "source": [
    "for i in range(0, len(folds)):\n",
    "    print(\"Training set length: \" + str(len(folds[i][0])))\n",
    "    print(\"Validation set length: \" + str(len(folds[i][1])))\n",
    "    print(\"Total dataset length: \" + str(len(folds[i][0]) + len(folds[i][1])))\n",
    "    print(\"\\n\")"
   ]
  },
  {
   "cell_type": "code",
   "execution_count": 132,
   "id": "5c814aa5-0c43-4d34-84a8-263038afd15a",
   "metadata": {},
   "outputs": [
    {
     "name": "stdout",
     "output_type": "stream",
     "text": [
      "finding\n",
      "COVID-19     0.772237\n",
      "Pneumonia    0.140836\n",
      "Normal       0.086927\n",
      "Name: proportion, dtype: float64\n",
      "finding\n",
      "COVID-19     0.772013\n",
      "Pneumonia    0.140162\n",
      "Normal       0.087826\n",
      "Name: proportion, dtype: float64\n",
      "finding\n",
      "COVID-19     0.766622\n",
      "Pneumonia    0.148248\n",
      "Normal       0.085130\n",
      "Name: proportion, dtype: float64\n",
      "finding\n",
      "COVID-19     0.769766\n",
      "Pneumonia    0.142183\n",
      "Normal       0.088050\n",
      "Name: proportion, dtype: float64\n",
      "finding\n",
      "COVID-19     0.770216\n",
      "Pneumonia    0.141959\n",
      "Normal       0.087826\n",
      "Name: proportion, dtype: float64\n"
     ]
    }
   ],
   "source": [
    "# Distribution of class labels in training data\n",
    "for i in range(0, len(folds)):\n",
    "    print(folds[i][0]['finding'].value_counts(normalize=True))"
   ]
  },
  {
   "cell_type": "code",
   "execution_count": 134,
   "id": "9e2d5b7f-b9a7-45cc-aee3-7195ba5c7983",
   "metadata": {},
   "outputs": [
    {
     "name": "stdout",
     "output_type": "stream",
     "text": [
      "finding\n",
      "COVID-19     0.761905\n",
      "Pneumonia    0.150045\n",
      "Normal       0.088050\n",
      "Name: proportion, dtype: float64\n",
      "finding\n",
      "COVID-19     0.762803\n",
      "Pneumonia    0.152740\n",
      "Normal       0.084456\n",
      "Name: proportion, dtype: float64\n",
      "finding\n",
      "COVID-19     0.784367\n",
      "Pneumonia    0.120395\n",
      "Normal       0.095238\n",
      "Name: proportion, dtype: float64\n",
      "finding\n",
      "COVID-19     0.771788\n",
      "Pneumonia    0.144654\n",
      "Normal       0.083558\n",
      "Name: proportion, dtype: float64\n",
      "finding\n",
      "COVID-19     0.769991\n",
      "Pneumonia    0.145553\n",
      "Normal       0.084456\n",
      "Name: proportion, dtype: float64\n"
     ]
    }
   ],
   "source": [
    "# Distribution of class labels in validation data\n",
    "for i in range(0, len(folds)):\n",
    "    print(folds[i][1]['finding'].value_counts(normalize=True))"
   ]
  },
  {
   "cell_type": "code",
   "execution_count": 124,
   "id": "fdb30426-6e94-4785-af19-0752ca348791",
   "metadata": {},
   "outputs": [],
   "source": [
    "from pandas.testing import assert_frame_equal"
   ]
  },
  {
   "cell_type": "code",
   "execution_count": 128,
   "id": "41c772fa-3931-4874-b371-37b6041311b6",
   "metadata": {},
   "outputs": [
    {
     "name": "stdout",
     "output_type": "stream",
     "text": [
      "0       True\n",
      "1       True\n",
      "2       True\n",
      "3       True\n",
      "4       True\n",
      "        ... \n",
      "1108    True\n",
      "1109    True\n",
      "1110    True\n",
      "1111    True\n",
      "1112    True\n",
      "Name: patient id, Length: 1113, dtype: bool\n",
      "0       False\n",
      "1       False\n",
      "2       False\n",
      "3       False\n",
      "4       False\n",
      "        ...  \n",
      "1108    False\n",
      "1109    False\n",
      "1110    False\n",
      "1111    False\n",
      "1112    False\n",
      "Name: patient id, Length: 1113, dtype: bool\n",
      "0       False\n",
      "1       False\n",
      "2       False\n",
      "3       False\n",
      "4       False\n",
      "        ...  \n",
      "1108    False\n",
      "1109    False\n",
      "1110    False\n",
      "1111    False\n",
      "1112    False\n",
      "Name: patient id, Length: 1113, dtype: bool\n",
      "0       False\n",
      "1       False\n",
      "2       False\n",
      "3       False\n",
      "4       False\n",
      "        ...  \n",
      "1108    False\n",
      "1109    False\n",
      "1110    False\n",
      "1111    False\n",
      "1112    False\n",
      "Name: patient id, Length: 1113, dtype: bool\n",
      "0       False\n",
      "1       False\n",
      "2       False\n",
      "3       False\n",
      "4       False\n",
      "        ...  \n",
      "1108    False\n",
      "1109    False\n",
      "1110    False\n",
      "1111    False\n",
      "1112    False\n",
      "Name: patient id, Length: 1113, dtype: bool\n"
     ]
    }
   ],
   "source": [
    "for i in range(0, len(folds)):\n",
    "    print(folds[0][1]['patient id'].reset_index(drop=True) == folds[i][1]['patient id'].reset_index(drop=True))"
   ]
  },
  {
   "cell_type": "code",
   "execution_count": null,
   "id": "5fa550c6-b616-41a8-9b94-bfc47a2347af",
   "metadata": {},
   "outputs": [],
   "source": [
    "# Assembling the Arrays for the CNN"
   ]
  },
  {
   "cell_type": "code",
   "execution_count": 165,
   "id": "c83b3ea5-c0cd-434e-bda2-c90fc4a7a91c",
   "metadata": {},
   "outputs": [],
   "source": [
    "images = pd.read_csv('txt/train_COVIDx_CT-3A.csv', sep=' ',header=0)"
   ]
  },
  {
   "cell_type": "code",
   "execution_count": 171,
   "id": "63fe637d-3e05-4621-b3cf-b281c5ef7c75",
   "metadata": {},
   "outputs": [
    {
     "data": {
      "text/plain": [
       "0                     CP_10\n",
       "2                   CP_1071\n",
       "3                   CP_1072\n",
       "4                   CP_1073\n",
       "6                   CP_1076\n",
       "               ...         \n",
       "5560    COVIDCTMD-normal071\n",
       "5561    COVIDCTMD-normal072\n",
       "5562    COVIDCTMD-normal073\n",
       "5563    COVIDCTMD-normal074\n",
       "5564    COVIDCTMD-normal076\n",
       "Name: patient id, Length: 4452, dtype: object"
      ]
     },
     "execution_count": 171,
     "metadata": {},
     "output_type": "execute_result"
    }
   ],
   "source": [
    "folds[0][0]['patient id']"
   ]
  },
  {
   "cell_type": "code",
   "execution_count": 173,
   "id": "584de3a5-fc74-4d7a-ac95-f13217c2876f",
   "metadata": {},
   "outputs": [
    {
     "data": {
      "text/plain": [
       "0                NCP_96_1328_0032.png\n",
       "1                NCP_96_1328_0035.png\n",
       "2                NCP_96_1328_0036.png\n",
       "3                NCP_96_1328_0037.png\n",
       "4                NCP_96_1328_0038.png\n",
       "                     ...             \n",
       "357513    COVIDCTMD-cap060-IM0113.png\n",
       "357514    COVIDCTMD-cap060-IM0114.png\n",
       "357515    COVIDCTMD-cap060-IM0115.png\n",
       "357516    COVIDCTMD-cap060-IM0116.png\n",
       "357517    COVIDCTMD-cap060-IM0117.png\n",
       "Name: image, Length: 357518, dtype: object"
      ]
     },
     "execution_count": 173,
     "metadata": {},
     "output_type": "execute_result"
    }
   ],
   "source": [
    "images['image']"
   ]
  },
  {
   "cell_type": "code",
   "execution_count": 181,
   "id": "2146cbeb-a1f2-4aa6-9409-376380d813cc",
   "metadata": {},
   "outputs": [
    {
     "data": {
      "text/plain": [
       "0         False\n",
       "1         False\n",
       "2         False\n",
       "3         False\n",
       "4         False\n",
       "          ...  \n",
       "357513    False\n",
       "357514    False\n",
       "357515    False\n",
       "357516    False\n",
       "357517    False\n",
       "Name: image, Length: 357518, dtype: bool"
      ]
     },
     "execution_count": 181,
     "metadata": {},
     "output_type": "execute_result"
    }
   ],
   "source": [
    "images['image'].str.contains('CP_10')"
   ]
  },
  {
   "cell_type": "code",
   "execution_count": 138,
   "id": "e62b0d1e-a4c2-4fcc-88e1-4de18f02417c",
   "metadata": {},
   "outputs": [
    {
     "data": {
      "text/plain": [
       "0                     CP_10\n",
       "2                   CP_1071\n",
       "3                   CP_1072\n",
       "4                   CP_1073\n",
       "6                   CP_1076\n",
       "               ...         \n",
       "5560    COVIDCTMD-normal071\n",
       "5561    COVIDCTMD-normal072\n",
       "5562    COVIDCTMD-normal073\n",
       "5563    COVIDCTMD-normal074\n",
       "5564    COVIDCTMD-normal076\n",
       "Name: patient id, Length: 4452, dtype: object"
      ]
     },
     "execution_count": 138,
     "metadata": {},
     "output_type": "execute_result"
    }
   ],
   "source": [
    "folds[0][0]['patient id']"
   ]
  }
 ],
 "metadata": {
  "kernelspec": {
   "display_name": "Python [conda env:base] *",
   "language": "python",
   "name": "conda-base-py"
  },
  "language_info": {
   "codemirror_mode": {
    "name": "ipython",
    "version": 3
   },
   "file_extension": ".py",
   "mimetype": "text/x-python",
   "name": "python",
   "nbconvert_exporter": "python",
   "pygments_lexer": "ipython3",
   "version": "3.12.7"
  }
 },
 "nbformat": 4,
 "nbformat_minor": 5
}
